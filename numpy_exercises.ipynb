{
 "cells": [
  {
   "cell_type": "markdown",
   "id": "0a914f1b-09e6-43ab-a7c7-c357e578ab97",
   "metadata": {},
   "source": [
    "# Numpy Exercises"
   ]
  },
  {
   "cell_type": "code",
   "execution_count": 3,
   "id": "5bc5722e-bbd8-4838-b19f-3ff0ca596c02",
   "metadata": {
    "tags": []
   },
   "outputs": [],
   "source": [
    "import numpy as np"
   ]
  },
  {
   "cell_type": "code",
   "execution_count": 4,
   "id": "92150159-8316-41e2-98dc-b570baa2bb91",
   "metadata": {
    "tags": []
   },
   "outputs": [],
   "source": [
    "a = np.array([4, 10, 12, 23, -2, -1, 0, 0, 0, -6, 3, -7])"
   ]
  },
  {
   "cell_type": "markdown",
   "id": "001fd168-72bc-48e7-9b08-23cf9186e827",
   "metadata": {},
   "source": [
    "## 1. How many negative numbers are there?"
   ]
  },
  {
   "cell_type": "code",
   "execution_count": 46,
   "id": "029a3c01-46fb-4899-9a5b-365ae94661ec",
   "metadata": {
    "tags": []
   },
   "outputs": [
    {
     "data": {
      "text/plain": [
       "array([-2, -1, -6, -7])"
      ]
     },
     "execution_count": 46,
     "metadata": {},
     "output_type": "execute_result"
    }
   ],
   "source": [
    "a[a < 0]"
   ]
  },
  {
   "cell_type": "code",
   "execution_count": 47,
   "id": "7729bd91-e727-4a42-a056-e37bcf3a1ea9",
   "metadata": {
    "tags": []
   },
   "outputs": [
    {
     "data": {
      "text/plain": [
       "4"
      ]
     },
     "execution_count": 47,
     "metadata": {},
     "output_type": "execute_result"
    }
   ],
   "source": [
    "len(a[a < 0])"
   ]
  },
  {
   "cell_type": "markdown",
   "id": "a0d38a6d-e7ef-4633-836c-6a3426720155",
   "metadata": {
    "tags": []
   },
   "source": [
    "## 2. How many positive numbers are there?"
   ]
  },
  {
   "cell_type": "code",
   "execution_count": 48,
   "id": "65d26b43-59b7-459d-9062-285aaedca53a",
   "metadata": {
    "tags": []
   },
   "outputs": [
    {
     "data": {
      "text/plain": [
       "array([ 4, 10, 12, 23,  3])"
      ]
     },
     "execution_count": 48,
     "metadata": {},
     "output_type": "execute_result"
    }
   ],
   "source": [
    "a[a > 0]"
   ]
  },
  {
   "cell_type": "code",
   "execution_count": 49,
   "id": "1798ae84-27ee-4de8-9f6c-87cef7c7cab3",
   "metadata": {
    "tags": []
   },
   "outputs": [
    {
     "data": {
      "text/plain": [
       "5"
      ]
     },
     "execution_count": 49,
     "metadata": {},
     "output_type": "execute_result"
    }
   ],
   "source": [
    "len(a[a > 0])"
   ]
  },
  {
   "cell_type": "markdown",
   "id": "1b0a4e83-b6a5-4caf-ac55-40f63e02e636",
   "metadata": {},
   "source": [
    "## 3. How many even positive numbers are there?"
   ]
  },
  {
   "cell_type": "code",
   "execution_count": 50,
   "id": "744415e2-9e49-479d-b8c7-af7b9624a7a1",
   "metadata": {
    "tags": []
   },
   "outputs": [
    {
     "data": {
      "text/plain": [
       "array([ 4, 10, 12])"
      ]
     },
     "execution_count": 50,
     "metadata": {},
     "output_type": "execute_result"
    }
   ],
   "source": [
    "a[(a > 0) & (a % 2 == 0)]"
   ]
  },
  {
   "cell_type": "code",
   "execution_count": 51,
   "id": "ede5003f-ef28-4ba7-b109-5e5b4dc702ce",
   "metadata": {
    "tags": []
   },
   "outputs": [
    {
     "data": {
      "text/plain": [
       "3"
      ]
     },
     "execution_count": 51,
     "metadata": {},
     "output_type": "execute_result"
    }
   ],
   "source": [
    "len(a[(a > 0) & (a % 2 == 0)])"
   ]
  },
  {
   "cell_type": "markdown",
   "id": "ffbd1ff0-5e4b-49b9-b393-18caa7d96799",
   "metadata": {},
   "source": [
    "## 4. If you were to add 3 to each data point, how many positive numbers would there be?"
   ]
  },
  {
   "cell_type": "code",
   "execution_count": 52,
   "id": "f1511bb9-0fc7-4a69-bba4-8f905869d411",
   "metadata": {
    "tags": []
   },
   "outputs": [],
   "source": [
    "plus_three = a+3"
   ]
  },
  {
   "cell_type": "code",
   "execution_count": 53,
   "id": "c73ef122-6af7-45f0-b8cd-bff27200cb7c",
   "metadata": {
    "tags": []
   },
   "outputs": [
    {
     "data": {
      "text/plain": [
       "array([ 7, 13, 15, 26,  1,  2,  3,  3,  3, -3,  6, -4])"
      ]
     },
     "execution_count": 53,
     "metadata": {},
     "output_type": "execute_result"
    }
   ],
   "source": [
    "plus_three"
   ]
  },
  {
   "cell_type": "code",
   "execution_count": 54,
   "id": "e34c1616-d1af-4349-949f-c25523327a99",
   "metadata": {
    "tags": []
   },
   "outputs": [
    {
     "data": {
      "text/plain": [
       "array([ 7, 13, 15, 26,  1,  2,  3,  3,  3,  6])"
      ]
     },
     "execution_count": 54,
     "metadata": {},
     "output_type": "execute_result"
    }
   ],
   "source": [
    "plus_three[plus_three > 0]"
   ]
  },
  {
   "cell_type": "code",
   "execution_count": 55,
   "id": "c7175b5d-ada0-4612-bbcc-cb29f63a3f84",
   "metadata": {
    "tags": []
   },
   "outputs": [
    {
     "data": {
      "text/plain": [
       "10"
      ]
     },
     "execution_count": 55,
     "metadata": {},
     "output_type": "execute_result"
    }
   ],
   "source": [
    "len(plus_three[plus_three > 0])"
   ]
  },
  {
   "cell_type": "markdown",
   "id": "17356abd-8150-4496-a5b6-ca4680f5036e",
   "metadata": {},
   "source": [
    "## 5. If you squared each number, what would the new mean and standard deviation be?"
   ]
  },
  {
   "cell_type": "code",
   "execution_count": 56,
   "id": "0ad40ce2-04bf-414c-9d25-04f3325c6b87",
   "metadata": {
    "tags": []
   },
   "outputs": [],
   "source": [
    "square_a = a ** 2"
   ]
  },
  {
   "cell_type": "code",
   "execution_count": 57,
   "id": "f4b00dd5-f730-4034-869f-4a796ff25d59",
   "metadata": {
    "tags": []
   },
   "outputs": [
    {
     "data": {
      "text/plain": [
       "array([ 16, 100, 144, 529,   4,   1,   0,   0,   0,  36,   9,  49])"
      ]
     },
     "execution_count": 57,
     "metadata": {},
     "output_type": "execute_result"
    }
   ],
   "source": [
    "square_a"
   ]
  },
  {
   "cell_type": "code",
   "execution_count": 58,
   "id": "b7263966-4be9-444f-9ffb-fb9e863e24bc",
   "metadata": {
    "tags": []
   },
   "outputs": [
    {
     "data": {
      "text/plain": [
       "74.0"
      ]
     },
     "execution_count": 58,
     "metadata": {},
     "output_type": "execute_result"
    }
   ],
   "source": [
    "square_a.mean()"
   ]
  },
  {
   "cell_type": "code",
   "execution_count": 59,
   "id": "1149bab6-0cf9-417d-a792-cab93bcfe298",
   "metadata": {
    "tags": []
   },
   "outputs": [
    {
     "data": {
      "text/plain": [
       "144.0243035046516"
      ]
     },
     "execution_count": 59,
     "metadata": {},
     "output_type": "execute_result"
    }
   ],
   "source": [
    "square_a.std()"
   ]
  },
  {
   "cell_type": "markdown",
   "id": "3a1a1984-ea2f-425f-8b09-14f6b8aae6ac",
   "metadata": {},
   "source": [
    "## 6. A common statistical operation on a dataset is centering. This means to adjust the data such that the mean of the data is 0. This is done by subtracting the mean from each data point. Center the data set. See this link for more on centering."
   ]
  },
  {
   "cell_type": "code",
   "execution_count": 60,
   "id": "17cee836-32a8-4fb6-bef3-02a205aa0a4a",
   "metadata": {
    "tags": []
   },
   "outputs": [
    {
     "data": {
      "text/plain": [
       "array([ 4, 10, 12, 23, -2, -1,  0,  0,  0, -6,  3, -7])"
      ]
     },
     "execution_count": 60,
     "metadata": {},
     "output_type": "execute_result"
    }
   ],
   "source": [
    "a"
   ]
  },
  {
   "cell_type": "code",
   "execution_count": 61,
   "id": "b76bfe6a-b412-4b17-889f-11de1bd1b7b3",
   "metadata": {
    "tags": []
   },
   "outputs": [],
   "source": [
    "center = a.mean()"
   ]
  },
  {
   "cell_type": "code",
   "execution_count": 62,
   "id": "5f1ed3a7-8ee8-49e7-a550-af66d1846cdd",
   "metadata": {
    "tags": []
   },
   "outputs": [
    {
     "data": {
      "text/plain": [
       "3.0"
      ]
     },
     "execution_count": 62,
     "metadata": {},
     "output_type": "execute_result"
    }
   ],
   "source": [
    "center"
   ]
  },
  {
   "cell_type": "code",
   "execution_count": 63,
   "id": "292c03ea-a114-4e6a-962c-205ebf569f3c",
   "metadata": {
    "tags": []
   },
   "outputs": [],
   "source": [
    "centered_data = a - center"
   ]
  },
  {
   "cell_type": "code",
   "execution_count": 64,
   "id": "9201a85c-8957-42b2-802f-e9d73538aaca",
   "metadata": {
    "tags": []
   },
   "outputs": [
    {
     "data": {
      "text/plain": [
       "array([  1.,   7.,   9.,  20.,  -5.,  -4.,  -3.,  -3.,  -3.,  -9.,   0.,\n",
       "       -10.])"
      ]
     },
     "execution_count": 64,
     "metadata": {},
     "output_type": "execute_result"
    }
   ],
   "source": [
    "centered_data"
   ]
  },
  {
   "cell_type": "code",
   "execution_count": 65,
   "id": "6c7b63e4-4cfa-4e19-9896-2ffc6c71dd34",
   "metadata": {
    "tags": []
   },
   "outputs": [
    {
     "data": {
      "text/plain": [
       "0.0"
      ]
     },
     "execution_count": 65,
     "metadata": {},
     "output_type": "execute_result"
    }
   ],
   "source": [
    "centered_data.mean()"
   ]
  },
  {
   "cell_type": "markdown",
   "id": "b44820e7-2979-4373-8b9d-be8d179f4391",
   "metadata": {},
   "source": [
    "## 7. Calculate the z-score for each data point. Recall that the z-score is given by:\n",
    "\n",
    "Z = (x − μ) / σ"
   ]
  },
  {
   "cell_type": "code",
   "execution_count": 66,
   "id": "3d963f5b-d58d-4366-8fa1-8ca07eca9360",
   "metadata": {
    "tags": []
   },
   "outputs": [],
   "source": [
    "z_score_of_a = (a - a.mean()) / a.std()"
   ]
  },
  {
   "cell_type": "code",
   "execution_count": 67,
   "id": "6911608c-4181-4160-9186-0102c677a865",
   "metadata": {
    "tags": []
   },
   "outputs": [
    {
     "data": {
      "text/plain": [
       "array([ 0.12403473,  0.86824314,  1.11631261,  2.48069469, -0.62017367,\n",
       "       -0.49613894, -0.3721042 , -0.3721042 , -0.3721042 , -1.11631261,\n",
       "        0.        , -1.24034735])"
      ]
     },
     "execution_count": 67,
     "metadata": {},
     "output_type": "execute_result"
    }
   ],
   "source": [
    "z_score_of_a"
   ]
  },
  {
   "cell_type": "markdown",
   "id": "111fe7fb-9770-4b74-b968-8157ae61bbd0",
   "metadata": {},
   "source": [
    "## 8. Copy the setup and exercise directions from More Numpy Practice into your numpy_exercises.py and add your solutions."
   ]
  },
  {
   "cell_type": "code",
   "execution_count": 6,
   "id": "091d7744-bf58-42c2-bd3c-f35209dec08f",
   "metadata": {
    "tags": []
   },
   "outputs": [],
   "source": [
    "import math"
   ]
  },
  {
   "cell_type": "code",
   "execution_count": 7,
   "id": "f95ee350-be1f-40d2-a96f-942760c7fa3c",
   "metadata": {
    "tags": []
   },
   "outputs": [],
   "source": [
    "a = [1, 2, 3, 4, 5, 6, 7, 8, 9, 10]"
   ]
  },
  {
   "cell_type": "markdown",
   "id": "475b8ac2-7c2f-4bc9-b75f-4818d835bb5f",
   "metadata": {},
   "source": [
    "# Use python's built in functionality/operators to determine the following:"
   ]
  },
  {
   "cell_type": "markdown",
   "id": "82adf763-12e6-4182-b1d1-5088b0730e23",
   "metadata": {},
   "source": [
    "## Exercise 1 - Make a variable called sum_of_a to hold the sum of all the numbers in above list"
   ]
  },
  {
   "cell_type": "code",
   "execution_count": 11,
   "id": "bc93cc11-ea65-47ac-8a7d-54a5c50ddf68",
   "metadata": {
    "tags": []
   },
   "outputs": [
    {
     "data": {
      "text/plain": [
       "55"
      ]
     },
     "execution_count": 11,
     "metadata": {},
     "output_type": "execute_result"
    }
   ],
   "source": [
    "sum_of_a = sum(a)\n",
    "sum_of_a"
   ]
  },
  {
   "cell_type": "markdown",
   "id": "31a8cc83-aeee-423f-a6a0-091ba01ac25d",
   "metadata": {},
   "source": [
    "## Exercise 2 - Make a variable named min_of_a to hold the minimum of all the numbers in the above list"
   ]
  },
  {
   "cell_type": "code",
   "execution_count": 12,
   "id": "3d339a7f-e42f-4c0f-be86-2b731747fcaa",
   "metadata": {
    "tags": []
   },
   "outputs": [
    {
     "data": {
      "text/plain": [
       "1"
      ]
     },
     "execution_count": 12,
     "metadata": {},
     "output_type": "execute_result"
    }
   ],
   "source": [
    "min_of_a = min(a)\n",
    "min_of_a"
   ]
  },
  {
   "cell_type": "markdown",
   "id": "f5e66d58-d005-4991-bb88-6891f9a42d6e",
   "metadata": {},
   "source": [
    "## Exercise 3 - Make a variable named max_of_a to hold the max number of all the numbers in the above list"
   ]
  },
  {
   "cell_type": "code",
   "execution_count": 13,
   "id": "1557272d-4965-4dad-bdc0-e44b20108531",
   "metadata": {
    "tags": []
   },
   "outputs": [
    {
     "data": {
      "text/plain": [
       "10"
      ]
     },
     "execution_count": 13,
     "metadata": {},
     "output_type": "execute_result"
    }
   ],
   "source": [
    "max_of_a = max(a)\n",
    "max_of_a"
   ]
  },
  {
   "cell_type": "markdown",
   "id": "ddc2696c-6eb5-49f4-8e7f-0c5668661c06",
   "metadata": {},
   "source": [
    "## Exercise 4 - Make a variable named mean_of_a to hold the average of all the numbers in the above list"
   ]
  },
  {
   "cell_type": "code",
   "execution_count": 14,
   "id": "9c59d1b4-acf0-42c3-ac9d-87931a413885",
   "metadata": {
    "tags": []
   },
   "outputs": [
    {
     "data": {
      "text/plain": [
       "5.5"
      ]
     },
     "execution_count": 14,
     "metadata": {},
     "output_type": "execute_result"
    }
   ],
   "source": [
    "mean_of_a = sum(a) / len(a)\n",
    "mean_of_a"
   ]
  },
  {
   "cell_type": "markdown",
   "id": "66c89c58-2328-4190-9c0e-556a3d3be64d",
   "metadata": {},
   "source": [
    "## Exercise 5 - Make a variable named product_of_a to hold the product of multiplying all the numbers in the above list together"
   ]
  },
  {
   "cell_type": "code",
   "execution_count": 15,
   "id": "659ec908-9af7-48d0-a41e-c5268b4c54a2",
   "metadata": {
    "tags": []
   },
   "outputs": [
    {
     "data": {
      "text/plain": [
       "3628800"
      ]
     },
     "execution_count": 15,
     "metadata": {},
     "output_type": "execute_result"
    }
   ],
   "source": [
    "product_of_a = math.prod(a)\n",
    "product_of_a"
   ]
  },
  {
   "cell_type": "markdown",
   "id": "9e1ca195-f7b0-4aaa-891f-5e7bf1e14021",
   "metadata": {},
   "source": [
    "## Exercise 6 - Make a variable named squares_of_a. It should hold each number in a squared like [1, 4, 9, 16, 25...]"
   ]
  },
  {
   "cell_type": "code",
   "execution_count": 16,
   "id": "c5fb157e-8d2e-49d2-8494-578c2c71254a",
   "metadata": {
    "tags": []
   },
   "outputs": [
    {
     "data": {
      "text/plain": [
       "[1, 4, 9, 16, 25, 36, 49, 64, 81, 100]"
      ]
     },
     "execution_count": 16,
     "metadata": {},
     "output_type": "execute_result"
    }
   ],
   "source": [
    "squares_of_a = [num ** 2 for num in a]\n",
    "squares_of_a"
   ]
  },
  {
   "cell_type": "markdown",
   "id": "c3200257-099d-4a03-8133-d466032fda0c",
   "metadata": {},
   "source": [
    "## Exercise 7 - Make a variable named odds_in_a. It should hold only the odd numbers"
   ]
  },
  {
   "cell_type": "code",
   "execution_count": 17,
   "id": "786a7c40-7416-40a1-9b4f-92ba336f1edb",
   "metadata": {
    "tags": []
   },
   "outputs": [
    {
     "data": {
      "text/plain": [
       "[1, 3, 5, 7, 9]"
      ]
     },
     "execution_count": 17,
     "metadata": {},
     "output_type": "execute_result"
    }
   ],
   "source": [
    "odds_in_a = [num for num in a if num % 2]\n",
    "odds_in_a"
   ]
  },
  {
   "cell_type": "markdown",
   "id": "a85e1878-35cb-4879-b345-5b66c69e902f",
   "metadata": {},
   "source": [
    "# Exercise 8 - Make a variable named evens_in_a. It should hold only the evens."
   ]
  },
  {
   "cell_type": "code",
   "execution_count": 18,
   "id": "ece87fe1-9e5a-4b93-8c94-6140a6f8ee31",
   "metadata": {
    "tags": []
   },
   "outputs": [
    {
     "data": {
      "text/plain": [
       "[2, 4, 6, 8, 10]"
      ]
     },
     "execution_count": 18,
     "metadata": {},
     "output_type": "execute_result"
    }
   ],
   "source": [
    "evens_in_a = [num for num in a if num % 2 == 0]\n",
    "evens_in_a"
   ]
  },
  {
   "cell_type": "markdown",
   "id": "5265f9cd-62e0-4ae8-8e35-c0cfc426db97",
   "metadata": {},
   "source": [
    "## What about life in two dimensions? A list of lists is matrix, a table, a spreadsheet, a chessboard..."
   ]
  },
  {
   "cell_type": "markdown",
   "id": "d3d69683-46e4-4b9f-bab7-b71b6b872692",
   "metadata": {},
   "source": [
    "## Setup 2: Consider what it would take to find the sum, min, max, average, sum, product, and list of squares for this list of two lists."
   ]
  },
  {
   "cell_type": "code",
   "execution_count": 19,
   "id": "7a11117d-e0a1-46c4-948c-97e15bf201d7",
   "metadata": {},
   "outputs": [],
   "source": [
    "b = [\n",
    "    [3, 4, 5],\n",
    "    [6, 7, 8]\n",
    "]"
   ]
  },
  {
   "cell_type": "code",
   "execution_count": 20,
   "id": "104a5f05-7dfb-4f3a-a93f-27f0a2e92fff",
   "metadata": {
    "tags": []
   },
   "outputs": [],
   "source": [
    "b = np.array(b)"
   ]
  },
  {
   "cell_type": "markdown",
   "id": "0bf6ae1e-1154-432d-aa5c-3804515960b6",
   "metadata": {},
   "source": [
    "## Exercise 1 - refactor the following to use numpy. Use sum_of_b as the variable. **Hint, you'll first need to make sure that the \"b\" variable is a numpy array**\n",
    "sum_of_b = 0\n",
    "for row in b:\n",
    "    sum_of_b += sum(row)"
   ]
  },
  {
   "cell_type": "code",
   "execution_count": 21,
   "id": "c2b52e07-5144-4b91-bfb1-37b4e8b55e80",
   "metadata": {
    "tags": []
   },
   "outputs": [
    {
     "data": {
      "text/plain": [
       "33"
      ]
     },
     "execution_count": 21,
     "metadata": {},
     "output_type": "execute_result"
    }
   ],
   "source": [
    "b.sum()"
   ]
  },
  {
   "cell_type": "markdown",
   "id": "e51491b2-b4c3-445a-ad50-05fc59fb81dd",
   "metadata": {},
   "source": [
    "## Exercise 2 - refactor the following to use numpy. \n",
    "min_of_b = min(b[0]) if min(b[0]) <= min(b[1]) else min(b[1]) "
   ]
  },
  {
   "cell_type": "code",
   "execution_count": 22,
   "id": "7eda1c27-3ae8-4e24-9c4d-472c600556cd",
   "metadata": {
    "tags": []
   },
   "outputs": [
    {
     "data": {
      "text/plain": [
       "3"
      ]
     },
     "execution_count": 22,
     "metadata": {},
     "output_type": "execute_result"
    }
   ],
   "source": [
    "b.min()"
   ]
  },
  {
   "cell_type": "markdown",
   "id": "d5ab8bb7-601e-4166-9113-e18ebd0ac450",
   "metadata": {},
   "source": [
    " "
   ]
  },
  {
   "cell_type": "markdown",
   "id": "02f60fa6-5a70-45e7-80aa-8cd358ad4e45",
   "metadata": {},
   "source": [
    "## Exercise 3 - refactor the following maximum calculation to find the answer with numpy.\n",
    "max_of_b = max(b[0]) if max(b[0]) >= max(b[1]) else max(b[1])"
   ]
  },
  {
   "cell_type": "code",
   "execution_count": 236,
   "id": "3023c068-3da2-4fc6-826e-ee68999fe504",
   "metadata": {
    "tags": []
   },
   "outputs": [
    {
     "data": {
      "text/plain": [
       "8"
      ]
     },
     "execution_count": 236,
     "metadata": {},
     "output_type": "execute_result"
    }
   ],
   "source": [
    "b.max()"
   ]
  },
  {
   "cell_type": "markdown",
   "id": "3bbc3a08-b195-4696-bced-f882247334e2",
   "metadata": {},
   "source": [
    "## Exercise 4 - refactor the following using numpy to find the mean of b\n",
    "mean_of_b = (sum(b[0]) + sum(b[1])) / (len(b[0]) + len(b[1]))"
   ]
  },
  {
   "cell_type": "code",
   "execution_count": 235,
   "id": "b57bcf64-c8cc-493c-8ea5-96caefba8a16",
   "metadata": {
    "tags": []
   },
   "outputs": [
    {
     "data": {
      "text/plain": [
       "5.5"
      ]
     },
     "execution_count": 235,
     "metadata": {},
     "output_type": "execute_result"
    }
   ],
   "source": [
    "b.mean()"
   ]
  },
  {
   "cell_type": "markdown",
   "id": "1604efcc-4814-45f9-be31-dc466a79f942",
   "metadata": {},
   "source": [
    "## Exercise 5 - refactor the following to use numpy for calculating the product of all numbers multiplied together.\n",
    "product_of_b = 1\n",
    "for row in b:\n",
    "    for number in row:\n",
    "        product_of_b *= number"
   ]
  },
  {
   "cell_type": "code",
   "execution_count": 234,
   "id": "0480eb93-3697-4aa3-b70d-0f3a59a2b165",
   "metadata": {
    "tags": []
   },
   "outputs": [
    {
     "data": {
      "text/plain": [
       "20160"
      ]
     },
     "execution_count": 234,
     "metadata": {},
     "output_type": "execute_result"
    }
   ],
   "source": [
    "b.prod()"
   ]
  },
  {
   "cell_type": "markdown",
   "id": "e828533c-4134-4aeb-87f0-099748c47b20",
   "metadata": {},
   "source": [
    "## Exercise 6 - refactor the following to use numpy to find the list of squares \n",
    "squares_of_b = []\n",
    "for row in b:\n",
    "    for number in row:\n",
    "        squares_of_b.append(number**2)"
   ]
  },
  {
   "cell_type": "code",
   "execution_count": 244,
   "id": "44f7cc04-c970-4c9b-b790-1de9e5be92c9",
   "metadata": {
    "tags": []
   },
   "outputs": [
    {
     "data": {
      "text/plain": [
       "array([[ 9, 16, 25],\n",
       "       [36, 49, 64]])"
      ]
     },
     "execution_count": 244,
     "metadata": {},
     "output_type": "execute_result"
    }
   ],
   "source": [
    "b ** 2"
   ]
  },
  {
   "cell_type": "markdown",
   "id": "92fce7df-1873-4baa-88c7-7b54f55d76e9",
   "metadata": {},
   "source": [
    "## Exercise 7 - refactor using numpy to determine the odds_in_b\n",
    "odds_in_b = []\n",
    "for row in b:\n",
    "    for number in row:\n",
    "        if(number % 2 != 0):\n",
    "            odds_in_b.append(number)"
   ]
  },
  {
   "cell_type": "code",
   "execution_count": 23,
   "id": "db95a5bc-d7dd-4452-ae42-c0a729a54f01",
   "metadata": {
    "tags": []
   },
   "outputs": [
    {
     "data": {
      "text/plain": [
       "array([3, 5, 7])"
      ]
     },
     "execution_count": 23,
     "metadata": {},
     "output_type": "execute_result"
    }
   ],
   "source": [
    "b[b % 2 == 1]"
   ]
  },
  {
   "cell_type": "markdown",
   "id": "16342a87-c995-4d1d-b5c5-4c7f73523b85",
   "metadata": {},
   "source": [
    "## Exercise 8 - refactor the following to use numpy to filter only the even numbers\n",
    "evens_in_b = []\n",
    "for row in b:\n",
    "    for number in row:\n",
    "        if(number % 2 == 0):\n",
    "            evens_in_b.append(number)"
   ]
  },
  {
   "cell_type": "code",
   "execution_count": 240,
   "id": "7e2795de-c22c-424a-8107-0a4224d28dd1",
   "metadata": {
    "tags": []
   },
   "outputs": [
    {
     "data": {
      "text/plain": [
       "array([4, 6, 8])"
      ]
     },
     "execution_count": 240,
     "metadata": {},
     "output_type": "execute_result"
    }
   ],
   "source": [
    "b[b % 2 == 0]"
   ]
  },
  {
   "cell_type": "markdown",
   "id": "fbd579d0-29a9-4c58-b3eb-b3c50a902e0f",
   "metadata": {},
   "source": [
    "## Exercise 9 - print out the shape of the array b."
   ]
  },
  {
   "cell_type": "code",
   "execution_count": 167,
   "id": "cf1d1899-d3c7-4b16-9105-e39a3b141247",
   "metadata": {
    "tags": []
   },
   "outputs": [
    {
     "data": {
      "text/plain": [
       "(2, 3)"
      ]
     },
     "execution_count": 167,
     "metadata": {},
     "output_type": "execute_result"
    }
   ],
   "source": [
    "b.shape"
   ]
  },
  {
   "cell_type": "markdown",
   "id": "681bae4f-a2cc-4c9c-b6b8-1508333bd1b1",
   "metadata": {},
   "source": [
    "## Exercise 10 - transpose the array b."
   ]
  },
  {
   "cell_type": "code",
   "execution_count": 183,
   "id": "b4364176-51e4-4802-9229-15fd90b4c1e4",
   "metadata": {
    "tags": []
   },
   "outputs": [
    {
     "data": {
      "text/plain": [
       "array([[3, 6],\n",
       "       [4, 7],\n",
       "       [5, 8]])"
      ]
     },
     "execution_count": 183,
     "metadata": {},
     "output_type": "execute_result"
    }
   ],
   "source": [
    "b.transpose()"
   ]
  },
  {
   "cell_type": "markdown",
   "id": "9e5a4f4d-e947-40f6-9429-2528d6b013d3",
   "metadata": {},
   "source": [
    "## Exercise 11 - reshape the array b to be a single list of 6 numbers. (1 x 6)"
   ]
  },
  {
   "cell_type": "code",
   "execution_count": 24,
   "id": "eb66b105-3a69-434f-8bc6-fd53fba8bb55",
   "metadata": {
    "tags": []
   },
   "outputs": [
    {
     "data": {
      "text/plain": [
       "array([[3, 4, 5, 6, 7, 8]])"
      ]
     },
     "execution_count": 24,
     "metadata": {},
     "output_type": "execute_result"
    }
   ],
   "source": [
    "np.reshape(b, (1,6))"
   ]
  },
  {
   "cell_type": "markdown",
   "id": "5df758d5-d776-4479-9ae3-cf60f3c30135",
   "metadata": {},
   "source": [
    "## Exercise 12 - reshape the array b to be a list of 6 lists, each containing only 1 number (6 x 1)"
   ]
  },
  {
   "cell_type": "code",
   "execution_count": 31,
   "id": "6d88571b-2e74-4ead-8c2a-6c555f4a0a51",
   "metadata": {
    "tags": []
   },
   "outputs": [
    {
     "data": {
      "text/plain": [
       "[[3], [4], [5], [6], [7], [8]]"
      ]
     },
     "execution_count": 31,
     "metadata": {},
     "output_type": "execute_result"
    }
   ],
   "source": [
    "np.reshape(b, (6,1)).tolist()"
   ]
  },
  {
   "cell_type": "markdown",
   "id": "dc4c821c-9bf6-4964-aa39-b23fd9e2b098",
   "metadata": {},
   "source": [
    "## Setup 3\n",
    "### HINT, you'll first need to make sure that the \"c\" variable is a numpy array prior to using numpy array methods."
   ]
  },
  {
   "cell_type": "code",
   "execution_count": 32,
   "id": "d7acbe17-1932-47f4-8c64-23d325fff577",
   "metadata": {},
   "outputs": [],
   "source": [
    "c = [\n",
    "    [1, 2, 3],\n",
    "    [4, 5, 6],\n",
    "    [7, 8, 9]\n",
    "]"
   ]
  },
  {
   "cell_type": "code",
   "execution_count": 33,
   "id": "3089013d-efb0-4796-94fa-ec6d3229fd58",
   "metadata": {
    "tags": []
   },
   "outputs": [],
   "source": [
    "c_array = np.array(c)"
   ]
  },
  {
   "cell_type": "markdown",
   "id": "f63a7911-8779-417e-ac94-e2e6ecbb99f8",
   "metadata": {},
   "source": [
    "## Exercise 1 - Find the min, max, sum, and product of c."
   ]
  },
  {
   "cell_type": "code",
   "execution_count": 192,
   "id": "9daea255-04ce-43da-b573-ef8a929a191a",
   "metadata": {
    "tags": []
   },
   "outputs": [
    {
     "data": {
      "text/plain": [
       "1"
      ]
     },
     "execution_count": 192,
     "metadata": {},
     "output_type": "execute_result"
    }
   ],
   "source": [
    "c_array.min()"
   ]
  },
  {
   "cell_type": "code",
   "execution_count": 174,
   "id": "8c72ea16-befd-4a55-bb98-d96245ffcd40",
   "metadata": {
    "tags": []
   },
   "outputs": [
    {
     "data": {
      "text/plain": [
       "9"
      ]
     },
     "execution_count": 174,
     "metadata": {},
     "output_type": "execute_result"
    }
   ],
   "source": [
    "c_array.max()"
   ]
  },
  {
   "cell_type": "code",
   "execution_count": 175,
   "id": "a68f8f96-f655-4d47-86b6-f5b57c7b1555",
   "metadata": {
    "tags": []
   },
   "outputs": [
    {
     "data": {
      "text/plain": [
       "45"
      ]
     },
     "execution_count": 175,
     "metadata": {},
     "output_type": "execute_result"
    }
   ],
   "source": [
    "c_array.sum()"
   ]
  },
  {
   "cell_type": "code",
   "execution_count": 177,
   "id": "a67358d7-5a68-4145-b363-20506aef5779",
   "metadata": {
    "tags": []
   },
   "outputs": [
    {
     "data": {
      "text/plain": [
       "362880"
      ]
     },
     "execution_count": 177,
     "metadata": {},
     "output_type": "execute_result"
    }
   ],
   "source": [
    "c_array.prod()"
   ]
  },
  {
   "cell_type": "code",
   "execution_count": 34,
   "id": "eafabf4a-ad39-4a13-b61a-fe8c7f162d98",
   "metadata": {
    "tags": []
   },
   "outputs": [],
   "source": [
    "labels = ['min', 'max', 'sum', 'prod']\n",
    "outputs = [c_array.min(), c_array.max(), c_array.sum(), c_array.prod()]"
   ]
  },
  {
   "cell_type": "code",
   "execution_count": 35,
   "id": "b12cbb82-ba30-4263-acc3-98f0f401911b",
   "metadata": {
    "tags": []
   },
   "outputs": [
    {
     "data": {
      "text/plain": [
       "{'min': 1, 'max': 9, 'sum': 45, 'prod': 362880}"
      ]
     },
     "execution_count": 35,
     "metadata": {},
     "output_type": "execute_result"
    }
   ],
   "source": [
    "dict(zip(labels, outputs))"
   ]
  },
  {
   "cell_type": "markdown",
   "id": "f09ddee5-3cef-4443-81a1-ec8bfdb6bbfc",
   "metadata": {},
   "source": [
    "## Exercise 2 - Determine the standard deviation of c."
   ]
  },
  {
   "cell_type": "code",
   "execution_count": 178,
   "id": "ba40b80e-8b34-4bdf-8984-6003f358f792",
   "metadata": {
    "tags": []
   },
   "outputs": [
    {
     "data": {
      "text/plain": [
       "2.581988897471611"
      ]
     },
     "execution_count": 178,
     "metadata": {},
     "output_type": "execute_result"
    }
   ],
   "source": [
    "c_array.std()"
   ]
  },
  {
   "cell_type": "markdown",
   "id": "ac5ae273-a36a-4d4a-8761-e3cf78dec188",
   "metadata": {},
   "source": [
    "## Exercise 3 - Determine the variance of c."
   ]
  },
  {
   "cell_type": "code",
   "execution_count": 180,
   "id": "2cb4aa79-fb29-47a1-afea-ab8c0af9d076",
   "metadata": {
    "tags": []
   },
   "outputs": [
    {
     "data": {
      "text/plain": [
       "6.666666666666667"
      ]
     },
     "execution_count": 180,
     "metadata": {},
     "output_type": "execute_result"
    }
   ],
   "source": [
    "c_array.var()"
   ]
  },
  {
   "cell_type": "markdown",
   "id": "8e672ecb-f6af-46dd-b841-4e6bad1e05ab",
   "metadata": {},
   "source": [
    "## Exercise 4 - Print out the shape of the array c"
   ]
  },
  {
   "cell_type": "code",
   "execution_count": 181,
   "id": "9bc31d1d-5cd3-4864-8b51-4bd4816518da",
   "metadata": {
    "tags": []
   },
   "outputs": [
    {
     "data": {
      "text/plain": [
       "(3, 3)"
      ]
     },
     "execution_count": 181,
     "metadata": {},
     "output_type": "execute_result"
    }
   ],
   "source": [
    "c_array.shape"
   ]
  },
  {
   "cell_type": "markdown",
   "id": "6ae87253-8f58-4c1d-826f-488a40b44971",
   "metadata": {},
   "source": [
    "## Exercise 5 - Transpose c and print out transposed result."
   ]
  },
  {
   "cell_type": "code",
   "execution_count": 39,
   "id": "8e3de450-157d-4919-af51-0f5a4a5297f5",
   "metadata": {
    "tags": []
   },
   "outputs": [],
   "source": [
    "transposed_c = c_array.transpose()"
   ]
  },
  {
   "cell_type": "code",
   "execution_count": 40,
   "id": "4461d2ba-3d5b-42b1-8553-552254c0676f",
   "metadata": {
    "tags": []
   },
   "outputs": [
    {
     "data": {
      "text/plain": [
       "array([[1, 4, 7],\n",
       "       [2, 5, 8],\n",
       "       [3, 6, 9]])"
      ]
     },
     "execution_count": 40,
     "metadata": {},
     "output_type": "execute_result"
    }
   ],
   "source": [
    "transposed_c"
   ]
  },
  {
   "cell_type": "markdown",
   "id": "4e78d6c6-2132-4648-b8c4-a7b5e1444962",
   "metadata": {},
   "source": [
    "## Exercise 6 - Get the dot product of the array c with c. "
   ]
  },
  {
   "cell_type": "code",
   "execution_count": 41,
   "id": "232ba89f-fd70-44a3-81af-b83dc45a243e",
   "metadata": {
    "tags": []
   },
   "outputs": [],
   "source": [
    "dot_prod = np.dot(c_array, c)"
   ]
  },
  {
   "cell_type": "code",
   "execution_count": 42,
   "id": "bf1ad7e9-bd75-4a72-af74-76a88074a65a",
   "metadata": {
    "tags": []
   },
   "outputs": [
    {
     "data": {
      "text/plain": [
       "array([[ 30,  36,  42],\n",
       "       [ 66,  81,  96],\n",
       "       [102, 126, 150]])"
      ]
     },
     "execution_count": 42,
     "metadata": {},
     "output_type": "execute_result"
    }
   ],
   "source": [
    "dot_prod"
   ]
  },
  {
   "cell_type": "markdown",
   "id": "5df2309a-531a-4b04-9fef-d75dc5b840fa",
   "metadata": {},
   "source": [
    "## Exercise 7 - Write the code necessary to sum up the result of c times c transposed. Answer should be 261"
   ]
  },
  {
   "cell_type": "code",
   "execution_count": 43,
   "id": "7b698847-6fb4-410a-b4e8-d8e9ebc710da",
   "metadata": {
    "tags": []
   },
   "outputs": [],
   "source": [
    "c_times_transposed_c = transposed_c * c"
   ]
  },
  {
   "cell_type": "code",
   "execution_count": 44,
   "id": "dd771eb8-ae04-4e3d-801f-25881d4705e6",
   "metadata": {
    "tags": []
   },
   "outputs": [
    {
     "data": {
      "text/plain": [
       "array([[ 1,  8, 21],\n",
       "       [ 8, 25, 48],\n",
       "       [21, 48, 81]])"
      ]
     },
     "execution_count": 44,
     "metadata": {},
     "output_type": "execute_result"
    }
   ],
   "source": [
    "c_times_transposed_c"
   ]
  },
  {
   "cell_type": "code",
   "execution_count": 45,
   "id": "71491c39-7377-481f-a0e8-a13e95e8298d",
   "metadata": {
    "tags": []
   },
   "outputs": [
    {
     "data": {
      "text/plain": [
       "261"
      ]
     },
     "execution_count": 45,
     "metadata": {},
     "output_type": "execute_result"
    }
   ],
   "source": [
    "c_times_transposed_c.sum()"
   ]
  },
  {
   "cell_type": "markdown",
   "id": "871ce08f-e6d9-4eb3-9a8e-981a65c11886",
   "metadata": {},
   "source": [
    "## Exercise 8 - Write the code necessary to determine the product of c times c transposed. Answer should be 131681894400."
   ]
  },
  {
   "cell_type": "code",
   "execution_count": 212,
   "id": "f2977cd8-8265-44b7-a9ad-e13c6255f9d6",
   "metadata": {
    "tags": []
   },
   "outputs": [
    {
     "data": {
      "text/plain": [
       "131681894400"
      ]
     },
     "execution_count": 212,
     "metadata": {},
     "output_type": "execute_result"
    }
   ],
   "source": [
    "c_times_transposed_c.prod()"
   ]
  },
  {
   "cell_type": "markdown",
   "id": "f5d8dc56-a63e-41d2-b339-cde3817d8b5a",
   "metadata": {},
   "source": [
    "## Setup 4"
   ]
  },
  {
   "cell_type": "code",
   "execution_count": 46,
   "id": "8bde7431-5771-41f7-b71e-46c0b8b3680e",
   "metadata": {},
   "outputs": [],
   "source": [
    "d = [\n",
    "    [90, 30, 45, 0, 120, 180],\n",
    "    [45, -90, -30, 270, 90, 0],\n",
    "    [60, 45, -45, 90, -45, 180]\n",
    "]"
   ]
  },
  {
   "cell_type": "code",
   "execution_count": 47,
   "id": "f450534d-3c4f-4df9-878c-547bfc40d10b",
   "metadata": {
    "tags": []
   },
   "outputs": [],
   "source": [
    "d_array = np.array(d)"
   ]
  },
  {
   "cell_type": "markdown",
   "id": "d0c92d19-46b6-41d1-a289-dbdec9dbcb15",
   "metadata": {},
   "source": [
    "## Exercise 1 - Find the sine of all the numbers in d"
   ]
  },
  {
   "cell_type": "code",
   "execution_count": 219,
   "id": "25fbf5e0-a772-4d21-83a3-065b3aaa0edd",
   "metadata": {
    "tags": []
   },
   "outputs": [
    {
     "data": {
      "text/plain": [
       "array([[ 0.89399666, -0.98803162,  0.85090352,  0.        ,  0.58061118,\n",
       "        -0.80115264],\n",
       "       [ 0.85090352, -0.89399666,  0.98803162, -0.17604595,  0.89399666,\n",
       "         0.        ],\n",
       "       [-0.30481062,  0.85090352, -0.85090352,  0.89399666, -0.85090352,\n",
       "        -0.80115264]])"
      ]
     },
     "execution_count": 219,
     "metadata": {},
     "output_type": "execute_result"
    }
   ],
   "source": [
    "np.sin(d_array)"
   ]
  },
  {
   "cell_type": "markdown",
   "id": "bf00b17b-0d26-4e75-aada-a0970bb2e21b",
   "metadata": {},
   "source": [
    "## Exercise 2 - Find the cosine of all the numbers in d"
   ]
  },
  {
   "cell_type": "code",
   "execution_count": 220,
   "id": "1f91b61f-a550-4225-96d6-7b9f41286e26",
   "metadata": {
    "tags": []
   },
   "outputs": [
    {
     "data": {
      "text/plain": [
       "array([[-0.44807362,  0.15425145,  0.52532199,  1.        ,  0.81418097,\n",
       "        -0.59846007],\n",
       "       [ 0.52532199, -0.44807362,  0.15425145,  0.98438195, -0.44807362,\n",
       "         1.        ],\n",
       "       [-0.95241298,  0.52532199,  0.52532199, -0.44807362,  0.52532199,\n",
       "        -0.59846007]])"
      ]
     },
     "execution_count": 220,
     "metadata": {},
     "output_type": "execute_result"
    }
   ],
   "source": [
    "np.cos(d_array)"
   ]
  },
  {
   "cell_type": "markdown",
   "id": "fa95f486-5d3d-48ee-a33b-cc653070ffc3",
   "metadata": {},
   "source": [
    "## Exercise 3 - Find the tangent of all the numbers in d"
   ]
  },
  {
   "cell_type": "code",
   "execution_count": 221,
   "id": "773545c9-6216-4db0-887a-2452d28a2470",
   "metadata": {
    "tags": []
   },
   "outputs": [
    {
     "data": {
      "text/plain": [
       "array([[-1.99520041, -6.4053312 ,  1.61977519,  0.        ,  0.71312301,\n",
       "         1.33869021],\n",
       "       [ 1.61977519,  1.99520041,  6.4053312 , -0.17883906, -1.99520041,\n",
       "         0.        ],\n",
       "       [ 0.32004039,  1.61977519, -1.61977519, -1.99520041, -1.61977519,\n",
       "         1.33869021]])"
      ]
     },
     "execution_count": 221,
     "metadata": {},
     "output_type": "execute_result"
    }
   ],
   "source": [
    "np.tan(d_array)"
   ]
  },
  {
   "cell_type": "markdown",
   "id": "0b00a1fc-9c06-4fb3-8d14-d673d6eadd32",
   "metadata": {},
   "source": [
    "## Exercise 4 - Find all the negative numbers in d"
   ]
  },
  {
   "cell_type": "code",
   "execution_count": 225,
   "id": "4d10392d-2aad-4c40-9b78-52307dbab659",
   "metadata": {
    "tags": []
   },
   "outputs": [
    {
     "data": {
      "text/plain": [
       "array([-90, -30, -45, -45])"
      ]
     },
     "execution_count": 225,
     "metadata": {},
     "output_type": "execute_result"
    }
   ],
   "source": [
    "d_array[d_array < 0]"
   ]
  },
  {
   "cell_type": "markdown",
   "id": "20064e1b-12a0-4276-b156-16f730ffc5e8",
   "metadata": {},
   "source": [
    "## Exercise 5 - Find all the positive numbers in d"
   ]
  },
  {
   "cell_type": "code",
   "execution_count": 226,
   "id": "86734e86-66b7-488d-94b3-4b1011e51a11",
   "metadata": {
    "tags": []
   },
   "outputs": [
    {
     "data": {
      "text/plain": [
       "array([ 90,  30,  45, 120, 180,  45, 270,  90,  60,  45,  90, 180])"
      ]
     },
     "execution_count": 226,
     "metadata": {},
     "output_type": "execute_result"
    }
   ],
   "source": [
    "d_array[d_array > 0]"
   ]
  },
  {
   "cell_type": "markdown",
   "id": "28f22301-1c72-43e1-8199-101d2c1bc17b",
   "metadata": {},
   "source": [
    "## Exercise 6 - Return an array of only the unique numbers in d."
   ]
  },
  {
   "cell_type": "code",
   "execution_count": 227,
   "id": "2d5d2712-08d8-4d50-af89-5c0e247e4064",
   "metadata": {
    "tags": []
   },
   "outputs": [
    {
     "data": {
      "text/plain": [
       "array([-90, -45, -30,   0,  30,  45,  60,  90, 120, 180, 270])"
      ]
     },
     "execution_count": 227,
     "metadata": {},
     "output_type": "execute_result"
    }
   ],
   "source": [
    "np.unique(d_array)"
   ]
  },
  {
   "cell_type": "markdown",
   "id": "81cb6782-efa6-41d1-87e3-6b9177d52166",
   "metadata": {},
   "source": [
    "## Exercise 7 - Determine how many unique numbers there are in d."
   ]
  },
  {
   "cell_type": "code",
   "execution_count": 228,
   "id": "e5d8666e-c929-4a7f-b7ba-924f8ebca4f6",
   "metadata": {
    "tags": []
   },
   "outputs": [
    {
     "data": {
      "text/plain": [
       "11"
      ]
     },
     "execution_count": 228,
     "metadata": {},
     "output_type": "execute_result"
    }
   ],
   "source": [
    "len(np.unique(d_array))"
   ]
  },
  {
   "cell_type": "markdown",
   "id": "de8bb998-443e-41ff-b65c-2f56969e7cf1",
   "metadata": {},
   "source": [
    "## Exercise 8 - Print out the shape of d."
   ]
  },
  {
   "cell_type": "code",
   "execution_count": 229,
   "id": "90351333-8e97-48b7-92c1-7d1ce165782e",
   "metadata": {
    "tags": []
   },
   "outputs": [
    {
     "data": {
      "text/plain": [
       "(3, 6)"
      ]
     },
     "execution_count": 229,
     "metadata": {},
     "output_type": "execute_result"
    }
   ],
   "source": [
    "d_array.shape"
   ]
  },
  {
   "cell_type": "markdown",
   "id": "8fbb52cc-4f54-41d4-9e1e-e15cf88b50ec",
   "metadata": {},
   "source": [
    "## Exercise 9 - Transpose and then print out the shape of d."
   ]
  },
  {
   "cell_type": "code",
   "execution_count": 230,
   "id": "4f749ce6-0407-4d42-bf7c-082c5d127c03",
   "metadata": {
    "tags": []
   },
   "outputs": [
    {
     "data": {
      "text/plain": [
       "array([[ 90,  45,  60],\n",
       "       [ 30, -90,  45],\n",
       "       [ 45, -30, -45],\n",
       "       [  0, 270,  90],\n",
       "       [120,  90, -45],\n",
       "       [180,   0, 180]])"
      ]
     },
     "execution_count": 230,
     "metadata": {},
     "output_type": "execute_result"
    }
   ],
   "source": [
    "d_array.transpose()"
   ]
  },
  {
   "cell_type": "markdown",
   "id": "bc29d8fd-dd8d-453c-8430-9c78b1d4197a",
   "metadata": {},
   "source": [
    "## Exercise 10 - Reshape d into an array of 9 x 2"
   ]
  },
  {
   "cell_type": "code",
   "execution_count": 30,
   "id": "06a236f3-8ee7-4ddf-b57d-10fb34af8572",
   "metadata": {
    "tags": []
   },
   "outputs": [
    {
     "data": {
      "text/plain": [
       "array([[ 90,  30],\n",
       "       [ 45,   0],\n",
       "       [120, 180],\n",
       "       [ 45, -90],\n",
       "       [-30, 270],\n",
       "       [ 90,   0],\n",
       "       [ 60,  45],\n",
       "       [-45,  90],\n",
       "       [-45, 180]])"
      ]
     },
     "execution_count": 30,
     "metadata": {},
     "output_type": "execute_result"
    }
   ],
   "source": [
    "np.reshape(d_array, (9,2))"
   ]
  }
 ],
 "metadata": {
  "kernelspec": {
   "display_name": "Python 3 (ipykernel)",
   "language": "python",
   "name": "python3"
  },
  "language_info": {
   "codemirror_mode": {
    "name": "ipython",
    "version": 3
   },
   "file_extension": ".py",
   "mimetype": "text/x-python",
   "name": "python",
   "nbconvert_exporter": "python",
   "pygments_lexer": "ipython3",
   "version": "3.11.3"
  }
 },
 "nbformat": 4,
 "nbformat_minor": 5
}
