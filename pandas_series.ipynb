{
 "cells": [
  {
   "cell_type": "markdown",
   "id": "e87ff472-148e-4102-8be9-05b931f4e486",
   "metadata": {},
   "source": [
    "# Exercises Part I"
   ]
  },
  {
   "cell_type": "code",
   "execution_count": 5,
   "id": "f71373a1-e3d6-49bc-817a-d864e56cb1fd",
   "metadata": {
    "tags": []
   },
   "outputs": [],
   "source": [
    "import pandas as pd\n",
    "import numpy as np"
   ]
  },
  {
   "cell_type": "markdown",
   "id": "33cf8b8d-32c2-4f44-b1d3-13affacccf09",
   "metadata": {},
   "source": [
    "## Use pandas to create a Series named fruits from the following list:"
   ]
  },
  {
   "cell_type": "code",
   "execution_count": 60,
   "id": "7c3f0f33-0e63-42c8-8dda-804f815bae57",
   "metadata": {
    "tags": []
   },
   "outputs": [],
   "source": [
    "fruit = [\"kiwi\", \"mango\", \"strawberry\", \"pineapple\", \"gala apple\", \"honeycrisp apple\", \"tomato\", \"watermelon\", \"honeydew\", \"kiwi\", \"kiwi\", \"kiwi\", \"mango\", \"blueberry\", \"blackberry\", \"gooseberry\", \"papaya\"]\n",
    "fruit_series = pd.Series(fruit)"
   ]
  },
  {
   "cell_type": "code",
   "execution_count": 61,
   "id": "db8946c3-5c71-45cf-8c88-feac2dd4844c",
   "metadata": {
    "tags": []
   },
   "outputs": [
    {
     "data": {
      "text/plain": [
       "0                 kiwi\n",
       "1                mango\n",
       "2           strawberry\n",
       "3            pineapple\n",
       "4           gala apple\n",
       "5     honeycrisp apple\n",
       "6               tomato\n",
       "7           watermelon\n",
       "8             honeydew\n",
       "9                 kiwi\n",
       "10                kiwi\n",
       "11                kiwi\n",
       "12               mango\n",
       "13           blueberry\n",
       "14          blackberry\n",
       "15          gooseberry\n",
       "16              papaya\n",
       "dtype: object"
      ]
     },
     "execution_count": 61,
     "metadata": {},
     "output_type": "execute_result"
    }
   ],
   "source": [
    "fruit_series"
   ]
  },
  {
   "cell_type": "markdown",
   "id": "30d4e92e-ec59-483d-8d57-29427f478f60",
   "metadata": {},
   "source": [
    "## Use Series attributes and methods to explore your fruits Series."
   ]
  },
  {
   "cell_type": "markdown",
   "id": "439e4f38-94af-40d2-a109-cf0136155534",
   "metadata": {},
   "source": [
    "### 1. Determine the number of elements in fruits."
   ]
  },
  {
   "cell_type": "code",
   "execution_count": 108,
   "id": "23cc2f08-d2f2-4ed2-b841-5de14d5bf413",
   "metadata": {
    "tags": []
   },
   "outputs": [
    {
     "data": {
      "text/plain": [
       "17"
      ]
     },
     "execution_count": 108,
     "metadata": {},
     "output_type": "execute_result"
    }
   ],
   "source": [
    "fruit_series.size"
   ]
  },
  {
   "cell_type": "markdown",
   "id": "5463e4cb-bea9-41fa-ba45-1d7b9bb7418d",
   "metadata": {},
   "source": [
    "### 2. Output only the index from fruits."
   ]
  },
  {
   "cell_type": "code",
   "execution_count": 109,
   "id": "ba27d117-4085-4159-8389-362157682941",
   "metadata": {
    "tags": []
   },
   "outputs": [
    {
     "data": {
      "text/plain": [
       "RangeIndex(start=0, stop=17, step=1)"
      ]
     },
     "execution_count": 109,
     "metadata": {},
     "output_type": "execute_result"
    }
   ],
   "source": [
    "fruit_series.index"
   ]
  },
  {
   "cell_type": "markdown",
   "id": "be5b6e2c-9e67-4148-b14b-f12989c34b62",
   "metadata": {},
   "source": [
    "### 3. Output only the values from fruits."
   ]
  },
  {
   "cell_type": "code",
   "execution_count": 110,
   "id": "ef47ccb1-aaeb-4cfe-9eaa-408f89a50907",
   "metadata": {
    "tags": []
   },
   "outputs": [
    {
     "data": {
      "text/plain": [
       "array(['kiwi', 'mango', 'strawberry', 'pineapple', 'gala apple',\n",
       "       'honeycrisp apple', 'tomato', 'watermelon', 'honeydew', 'kiwi',\n",
       "       'kiwi', 'kiwi', 'mango', 'blueberry', 'blackberry', 'gooseberry',\n",
       "       'papaya'], dtype=object)"
      ]
     },
     "execution_count": 110,
     "metadata": {},
     "output_type": "execute_result"
    }
   ],
   "source": [
    "fruit_series.values"
   ]
  },
  {
   "cell_type": "markdown",
   "id": "b3984c11-694b-4800-8991-3585d902a8f5",
   "metadata": {},
   "source": [
    "### 4. Confirm the data type of the values in fruits."
   ]
  },
  {
   "cell_type": "code",
   "execution_count": 111,
   "id": "b5bdad1d-07ab-4b44-a765-dceaa9d9b075",
   "metadata": {
    "tags": []
   },
   "outputs": [
    {
     "data": {
      "text/plain": [
       "dtype('O')"
      ]
     },
     "execution_count": 111,
     "metadata": {},
     "output_type": "execute_result"
    }
   ],
   "source": [
    "fruit_series.values.dtype"
   ]
  },
  {
   "cell_type": "markdown",
   "id": "7e704cc6-9c69-4e0e-9d3e-d692980c1b2d",
   "metadata": {},
   "source": [
    "### 5. Output only the first five values from fruits. Output the last three values. Output two random values from fruits."
   ]
  },
  {
   "cell_type": "code",
   "execution_count": 112,
   "id": "785ff75b-307b-4db5-8c81-7b36c1f2b855",
   "metadata": {
    "tags": []
   },
   "outputs": [
    {
     "data": {
      "text/plain": [
       "0          kiwi\n",
       "1         mango\n",
       "2    strawberry\n",
       "3     pineapple\n",
       "4    gala apple\n",
       "dtype: object"
      ]
     },
     "execution_count": 112,
     "metadata": {},
     "output_type": "execute_result"
    }
   ],
   "source": [
    "fruit_series.head(5)"
   ]
  },
  {
   "cell_type": "code",
   "execution_count": 113,
   "id": "c8a8f9e6-14c4-4669-81dd-482769b10b40",
   "metadata": {
    "tags": []
   },
   "outputs": [
    {
     "data": {
      "text/plain": [
       "14    blackberry\n",
       "15    gooseberry\n",
       "16        papaya\n",
       "dtype: object"
      ]
     },
     "execution_count": 113,
     "metadata": {},
     "output_type": "execute_result"
    }
   ],
   "source": [
    "fruit_series.tail(3)"
   ]
  },
  {
   "cell_type": "code",
   "execution_count": 114,
   "id": "ff0d4e5a-8264-4985-9b7c-ab9ff6c012ab",
   "metadata": {
    "tags": []
   },
   "outputs": [
    {
     "data": {
      "text/plain": [
       "12    mango\n",
       "9      kiwi\n",
       "dtype: object"
      ]
     },
     "execution_count": 114,
     "metadata": {},
     "output_type": "execute_result"
    }
   ],
   "source": [
    "fruit_series.sample(2)"
   ]
  },
  {
   "cell_type": "markdown",
   "id": "31743b40-10e9-4e0d-b9bc-6a33eee7151d",
   "metadata": {},
   "source": [
    "### 6. Run the .describe() on fruits to see what information it returns when called on a Series with string values."
   ]
  },
  {
   "cell_type": "code",
   "execution_count": 115,
   "id": "8a961cff-5ade-4b81-b89d-eec242b33982",
   "metadata": {
    "tags": []
   },
   "outputs": [
    {
     "data": {
      "text/plain": [
       "count       17\n",
       "unique      13\n",
       "top       kiwi\n",
       "freq         4\n",
       "dtype: object"
      ]
     },
     "execution_count": 115,
     "metadata": {},
     "output_type": "execute_result"
    }
   ],
   "source": [
    "fruit_series.describe()"
   ]
  },
  {
   "cell_type": "markdown",
   "id": "4d8bc15b-c6e3-4320-94ca-fccb62c6677b",
   "metadata": {},
   "source": [
    "### 7. Run the code necessary to produce only the unique string values from fruits."
   ]
  },
  {
   "cell_type": "code",
   "execution_count": 116,
   "id": "2429807d-68ad-459f-93bd-9152ca5b7e77",
   "metadata": {
    "tags": []
   },
   "outputs": [
    {
     "data": {
      "text/plain": [
       "array(['kiwi', 'mango', 'strawberry', 'pineapple', 'gala apple',\n",
       "       'honeycrisp apple', 'tomato', 'watermelon', 'honeydew',\n",
       "       'blueberry', 'blackberry', 'gooseberry', 'papaya'], dtype=object)"
      ]
     },
     "execution_count": 116,
     "metadata": {},
     "output_type": "execute_result"
    }
   ],
   "source": [
    "fruit_series.unique()"
   ]
  },
  {
   "cell_type": "markdown",
   "id": "d3a2562e-b8e3-4d96-a09b-8bae8e6e3112",
   "metadata": {},
   "source": [
    "### 8. Determine how many times each unique string value occurs in fruits."
   ]
  },
  {
   "cell_type": "code",
   "execution_count": 117,
   "id": "2104e720-bb77-4d48-a6dc-08ba2209a3dc",
   "metadata": {
    "tags": []
   },
   "outputs": [
    {
     "data": {
      "text/plain": [
       "kiwi                4\n",
       "mango               2\n",
       "strawberry          1\n",
       "pineapple           1\n",
       "gala apple          1\n",
       "honeycrisp apple    1\n",
       "tomato              1\n",
       "watermelon          1\n",
       "honeydew            1\n",
       "blueberry           1\n",
       "blackberry          1\n",
       "gooseberry          1\n",
       "papaya              1\n",
       "dtype: int64"
      ]
     },
     "execution_count": 117,
     "metadata": {},
     "output_type": "execute_result"
    }
   ],
   "source": [
    "fruit_series.value_counts()"
   ]
  },
  {
   "cell_type": "markdown",
   "id": "ecf99823-8e65-4760-919d-3292d89830c6",
   "metadata": {},
   "source": [
    "### 9. Determine the string value that occurs most frequently in fruits."
   ]
  },
  {
   "cell_type": "code",
   "execution_count": 125,
   "id": "102fbbb3-0fcc-4ce5-acdd-29253eb2400f",
   "metadata": {
    "tags": []
   },
   "outputs": [
    {
     "data": {
      "text/plain": [
       "kiwi    4\n",
       "dtype: int64"
      ]
     },
     "execution_count": 125,
     "metadata": {},
     "output_type": "execute_result"
    }
   ],
   "source": [
    "fruit_series.value_counts().nlargest(1)"
   ]
  },
  {
   "cell_type": "markdown",
   "id": "ff829ce8-1c4a-426e-ab83-7add02096f86",
   "metadata": {},
   "source": [
    "### 10. Determine the string value that occurs least frequently in fruits."
   ]
  },
  {
   "cell_type": "code",
   "execution_count": 126,
   "id": "a99467cc-5cc1-4d5e-9798-2cd9d66da7f0",
   "metadata": {
    "tags": []
   },
   "outputs": [
    {
     "data": {
      "text/plain": [
       "strawberry          1\n",
       "pineapple           1\n",
       "gala apple          1\n",
       "honeycrisp apple    1\n",
       "tomato              1\n",
       "watermelon          1\n",
       "honeydew            1\n",
       "blueberry           1\n",
       "blackberry          1\n",
       "gooseberry          1\n",
       "papaya              1\n",
       "dtype: int64"
      ]
     },
     "execution_count": 126,
     "metadata": {},
     "output_type": "execute_result"
    }
   ],
   "source": [
    "fruit_series.value_counts().nsmallest(1,keep='all')"
   ]
  },
  {
   "cell_type": "markdown",
   "id": "91869ee6-6821-4227-adab-3d489866ce8c",
   "metadata": {},
   "source": [
    "# Exercises Part II"
   ]
  },
  {
   "cell_type": "markdown",
   "id": "189c348b-e16f-4f0b-9f30-04adac3ab474",
   "metadata": {},
   "source": [
    "### 1. Capitalize all the string values in fruits."
   ]
  },
  {
   "cell_type": "code",
   "execution_count": 57,
   "id": "0bedc8d1-46c5-460f-82e2-ce1910cf1a1d",
   "metadata": {
    "tags": []
   },
   "outputs": [
    {
     "data": {
      "text/plain": [
       "0                 Kiwi\n",
       "1                Mango\n",
       "2           Strawberry\n",
       "3            Pineapple\n",
       "4           Gala apple\n",
       "5     Honeycrisp apple\n",
       "6               Tomato\n",
       "7           Watermelon\n",
       "8             Honeydew\n",
       "9                 Kiwi\n",
       "10                Kiwi\n",
       "11                Kiwi\n",
       "12               Mango\n",
       "13           Blueberry\n",
       "14          Blackberry\n",
       "15          Gooseberry\n",
       "16              Papaya\n",
       "dtype: object"
      ]
     },
     "execution_count": 57,
     "metadata": {},
     "output_type": "execute_result"
    }
   ],
   "source": [
    "fruit_series.str.capitalize()"
   ]
  },
  {
   "cell_type": "markdown",
   "id": "ba9b7f27-ead1-40a1-ad7b-c53a6ea4642a",
   "metadata": {},
   "source": [
    "### 2. Count the letter \"a\" in all the string values (use string vectorization)."
   ]
  },
  {
   "cell_type": "code",
   "execution_count": 128,
   "id": "b45984f7-c2c3-4cbd-818f-a4a488c4b456",
   "metadata": {
    "tags": []
   },
   "outputs": [
    {
     "data": {
      "text/plain": [
       "0     0\n",
       "1     1\n",
       "2     1\n",
       "3     1\n",
       "4     3\n",
       "5     1\n",
       "6     1\n",
       "7     1\n",
       "8     0\n",
       "9     0\n",
       "10    0\n",
       "11    0\n",
       "12    1\n",
       "13    0\n",
       "14    1\n",
       "15    0\n",
       "16    3\n",
       "dtype: int64"
      ]
     },
     "execution_count": 128,
     "metadata": {},
     "output_type": "execute_result"
    }
   ],
   "source": [
    "fruit_series.str.count('a')"
   ]
  },
  {
   "cell_type": "markdown",
   "id": "5c13bd92-0c4b-432b-979f-9e4c5c2148e5",
   "metadata": {},
   "source": [
    "### 3. Output the number of vowels in each and every string value."
   ]
  },
  {
   "cell_type": "code",
   "execution_count": 299,
   "id": "124d27df-f0b9-40e4-b93d-97f0b63414d3",
   "metadata": {
    "tags": []
   },
   "outputs": [],
   "source": [
    "vowel = ['aeiou']"
   ]
  },
  {
   "cell_type": "code",
   "execution_count": 64,
   "id": "f54bdccc-1b87-4659-998b-c10f973d4829",
   "metadata": {
    "tags": []
   },
   "outputs": [
    {
     "data": {
      "text/plain": [
       "0     2\n",
       "1     2\n",
       "2     2\n",
       "3     4\n",
       "4     4\n",
       "5     5\n",
       "6     3\n",
       "7     4\n",
       "8     3\n",
       "9     2\n",
       "10    2\n",
       "11    2\n",
       "12    2\n",
       "13    3\n",
       "14    2\n",
       "15    4\n",
       "16    3\n",
       "dtype: int64"
      ]
     },
     "execution_count": 64,
     "metadata": {},
     "output_type": "execute_result"
    }
   ],
   "source": [
    "fruit_series.str.count('[aeiou]')"
   ]
  },
  {
   "cell_type": "code",
   "execution_count": 300,
   "id": "6a543c34-dc03-432d-bd6c-027086cd8912",
   "metadata": {
    "tags": []
   },
   "outputs": [
    {
     "data": {
      "text/plain": [
       "0                 kiwi\n",
       "1                mango\n",
       "2           strawberry\n",
       "3            pineapple\n",
       "4           gala apple\n",
       "5     honeycrisp apple\n",
       "6               tomato\n",
       "7           watermelon\n",
       "8             honeydew\n",
       "9                 kiwi\n",
       "10                kiwi\n",
       "11                kiwi\n",
       "12               mango\n",
       "13           blueberry\n",
       "14          blackberry\n",
       "15          gooseberry\n",
       "16              papaya\n",
       "dtype: object"
      ]
     },
     "execution_count": 300,
     "metadata": {},
     "output_type": "execute_result"
    }
   ],
   "source": [
    "fruit_series"
   ]
  },
  {
   "cell_type": "markdown",
   "id": "c4448622-a398-477f-9f9d-6cf5cb7a9967",
   "metadata": {},
   "source": [
    "### 4. Write the code to get the longest string value from fruits."
   ]
  },
  {
   "cell_type": "code",
   "execution_count": 232,
   "id": "ea29d9fd-352c-4ec2-ba41-a3c5ed247ad6",
   "metadata": {
    "tags": []
   },
   "outputs": [
    {
     "data": {
      "text/plain": [
       "'honeycrisp apple'"
      ]
     },
     "execution_count": 232,
     "metadata": {},
     "output_type": "execute_result"
    }
   ],
   "source": [
    "max(fruit, key = len)"
   ]
  },
  {
   "cell_type": "markdown",
   "id": "11c4cbcb-2fe0-4d08-89f0-63cef8e4f21f",
   "metadata": {
    "tags": []
   },
   "source": [
    "### 5. Write the code to get the string values with 5 or more letters in the name."
   ]
  },
  {
   "cell_type": "code",
   "execution_count": 66,
   "id": "59eb6ad7-33b7-4d41-b1f4-c5dc36efc08f",
   "metadata": {
    "tags": []
   },
   "outputs": [
    {
     "data": {
      "text/plain": [
       "1                mango\n",
       "2           strawberry\n",
       "3            pineapple\n",
       "4           gala apple\n",
       "5     honeycrisp apple\n",
       "6               tomato\n",
       "7           watermelon\n",
       "8             honeydew\n",
       "12               mango\n",
       "13           blueberry\n",
       "14          blackberry\n",
       "15          gooseberry\n",
       "16              papaya\n",
       "dtype: object"
      ]
     },
     "execution_count": 66,
     "metadata": {},
     "output_type": "execute_result"
    }
   ],
   "source": [
    "fruit_series[fruit_series.str.len() >=5]"
   ]
  },
  {
   "cell_type": "markdown",
   "id": "e4f0b270-77aa-4dd8-af36-d682e1b946e0",
   "metadata": {},
   "source": [
    "### 6. Find the fruit(s) containing the letter \"o\" two or more times."
   ]
  },
  {
   "cell_type": "code",
   "execution_count": 68,
   "id": "872363a7-53ef-4ab5-8565-3ae51faab63b",
   "metadata": {},
   "outputs": [
    {
     "data": {
      "text/plain": [
       "6         tomato\n",
       "15    gooseberry\n",
       "dtype: object"
      ]
     },
     "execution_count": 68,
     "metadata": {},
     "output_type": "execute_result"
    }
   ],
   "source": [
    "fruit_series[fruit_series.str.count('o')>=2]"
   ]
  },
  {
   "cell_type": "markdown",
   "id": "cec4dfaf-139b-4e78-bbca-bd9f826bcc5c",
   "metadata": {},
   "source": [
    "### 7. Write the code to get only the string values containing the substring \"berry\"."
   ]
  },
  {
   "cell_type": "code",
   "execution_count": 69,
   "id": "bdba13a1-499f-4505-8395-c417c8e79d75",
   "metadata": {
    "tags": []
   },
   "outputs": [
    {
     "data": {
      "text/plain": [
       "2     strawberry\n",
       "13     blueberry\n",
       "14    blackberry\n",
       "15    gooseberry\n",
       "dtype: object"
      ]
     },
     "execution_count": 69,
     "metadata": {},
     "output_type": "execute_result"
    }
   ],
   "source": [
    "fruit_series[fruit_series.str.contains('berry')]"
   ]
  },
  {
   "cell_type": "markdown",
   "id": "21218a02-079a-48cb-a2b1-6e7ce385cce7",
   "metadata": {},
   "source": [
    "### 8. Write the code to get only the string values containing the substring \"apple\"."
   ]
  },
  {
   "cell_type": "code",
   "execution_count": 70,
   "id": "3e5e8c0f-1d59-43b1-8210-cdf1629227dc",
   "metadata": {},
   "outputs": [
    {
     "data": {
      "text/plain": [
       "3           pineapple\n",
       "4          gala apple\n",
       "5    honeycrisp apple\n",
       "dtype: object"
      ]
     },
     "execution_count": 70,
     "metadata": {},
     "output_type": "execute_result"
    }
   ],
   "source": [
    "fruit_series[fruit_series.str.contains('apple')]"
   ]
  },
  {
   "cell_type": "markdown",
   "id": "bdd97bf8-67d0-4937-8d69-1a7c7b7a3018",
   "metadata": {},
   "source": [
    "### 9. Which string value contains the most vowels?"
   ]
  },
  {
   "cell_type": "code",
   "execution_count": 73,
   "id": "295d9928-161a-458d-a800-e8045db0cd80",
   "metadata": {},
   "outputs": [
    {
     "data": {
      "text/plain": [
       "5    honeycrisp apple\n",
       "dtype: object"
      ]
     },
     "execution_count": 73,
     "metadata": {},
     "output_type": "execute_result"
    }
   ],
   "source": [
    "fruit_series[fruit_series.str.count('[aieou]').nlargest(n=1,keep='all')]"
   ]
  },
  {
   "cell_type": "markdown",
   "id": "aafc5a90-a90e-4065-94e8-0c69fa451d3f",
   "metadata": {},
   "source": [
    "# Exercises Part III"
   ]
  },
  {
   "cell_type": "markdown",
   "id": "0c61d5a9-c87d-46fb-b6fe-18164a662576",
   "metadata": {},
   "source": [
    "## Use pandas to create a Series named letters from the following string. The easiest way to make this string into a Pandas series is to use list to convert each individual letter into a single string on a basic Python list."
   ]
  },
  {
   "cell_type": "code",
   "execution_count": 22,
   "id": "bae273e2-e0fe-4a81-a380-b8204c43c91d",
   "metadata": {},
   "outputs": [],
   "source": [
    "letters = ('hnvidduckkqxwymbimkccexbkmqygkxoyndmcxnwqarhyffsjpsrabtjzsypmzadfavyrnndndvswreauxovncxtwzpwejilzjrmmbbgbyxvjtewqthafnbkqplarokkyydtubbmnexoypulzwfhqvckdpqtpoppzqrmcvhhpwgjwupgzhiofohawytlsiyecuproguy')\n",
    "letter_series = pd.Series(list(letters))"
   ]
  },
  {
   "cell_type": "markdown",
   "id": "df0609c4-b680-406b-9f35-fcc2d1028a45",
   "metadata": {
    "tags": []
   },
   "source": [
    "### 1. Which letter occurs the most frequently in the letters Series?"
   ]
  },
  {
   "cell_type": "code",
   "execution_count": 351,
   "id": "6a4d96c8-3428-4416-9cde-319e0bf28397",
   "metadata": {
    "tags": []
   },
   "outputs": [
    {
     "data": {
      "text/plain": [
       "y    13\n",
       "dtype: int64"
      ]
     },
     "execution_count": 351,
     "metadata": {},
     "output_type": "execute_result"
    }
   ],
   "source": [
    "letter_series.value_counts().nlargest(1)"
   ]
  },
  {
   "cell_type": "markdown",
   "id": "ef1f2537-d02c-4e27-b26b-587131ca7b8c",
   "metadata": {},
   "source": [
    "### 2. Which letter occurs the Least frequently?"
   ]
  },
  {
   "cell_type": "code",
   "execution_count": 352,
   "id": "8f198f6c-3eb0-44be-a0fb-c1c6da701496",
   "metadata": {
    "tags": []
   },
   "outputs": [
    {
     "data": {
      "text/plain": [
       "l    4\n",
       "dtype: int64"
      ]
     },
     "execution_count": 352,
     "metadata": {},
     "output_type": "execute_result"
    }
   ],
   "source": [
    "letter_series.value_counts().nsmallest(1)"
   ]
  },
  {
   "cell_type": "markdown",
   "id": "ec568388-d4b8-40d8-b66d-83c8616dbf9b",
   "metadata": {},
   "source": [
    "### 3. How many vowels are in the Series?"
   ]
  },
  {
   "cell_type": "code",
   "execution_count": 75,
   "id": "0ddca83b-ebc7-4ad8-b66a-3ff7600407a9",
   "metadata": {
    "tags": []
   },
   "outputs": [],
   "source": [
    "def is_vowel(x):\n",
    "    return x in ['a','e','i','o','u']"
   ]
  },
  {
   "cell_type": "code",
   "execution_count": 77,
   "id": "5bf2753e-017c-4279-8eda-a2b3ab1692ac",
   "metadata": {
    "tags": []
   },
   "outputs": [
    {
     "data": {
      "text/plain": [
       "34"
      ]
     },
     "execution_count": 77,
     "metadata": {},
     "output_type": "execute_result"
    }
   ],
   "source": [
    "letter_series.str.lower().apply(is_vowel).sum()"
   ]
  },
  {
   "cell_type": "markdown",
   "id": "e7742848-5174-4686-90c8-3dcf6997d9d4",
   "metadata": {},
   "source": [
    "### 4. How many consonants are in the Series?"
   ]
  },
  {
   "cell_type": "code",
   "execution_count": 78,
   "id": "c882bb82-bfd3-491e-b1bd-73effbff04ef",
   "metadata": {},
   "outputs": [
    {
     "data": {
      "text/plain": [
       "166"
      ]
     },
     "execution_count": 78,
     "metadata": {},
     "output_type": "execute_result"
    }
   ],
   "source": [
    "(~letter_series.str.lower().apply(is_vowel)).sum()"
   ]
  },
  {
   "cell_type": "markdown",
   "id": "fb78f431-16b4-4042-9dd0-ece0e795ff70",
   "metadata": {},
   "source": [
    "### 5. Create a Series that has all of the same letters but uppercased."
   ]
  },
  {
   "cell_type": "code",
   "execution_count": 355,
   "id": "4de3610a-7f88-469c-8bcd-ac3cdf6f8b2d",
   "metadata": {
    "tags": []
   },
   "outputs": [
    {
     "data": {
      "text/plain": [
       "'HNVIDDUCKKQXWYMBIMKCCEXBKMQYGKXOYNDMCXNWQARHYFFSJPSRABTJZSYPMZADFAVYRNNDNDVSWREAUXOVNCXTWZPWEJILZJRMMBBGBYXVJTEWQTHAFNBKQPLAROKKYYDTUBBMNEXOYPULZWFHQVCKDPQTPOPPZQRMCVHHPWGJWUPGZHIOFOHAWYTLSIYECUPROGUY'"
      ]
     },
     "execution_count": 355,
     "metadata": {},
     "output_type": "execute_result"
    }
   ],
   "source": [
    "letters.upper()"
   ]
  },
  {
   "cell_type": "markdown",
   "id": "a6232a0c-3721-4a5b-b1e7-effd3e32af86",
   "metadata": {},
   "source": [
    "### 6. Create a bar plot of the frequencies of the 6 most commonly occuring letters."
   ]
  },
  {
   "cell_type": "code",
   "execution_count": 25,
   "id": "85c11a97-c0f9-4ce8-83dd-0366aff107b0",
   "metadata": {},
   "outputs": [],
   "source": [
    "six_most_letters = letter_series.value_counts().nlargest(6)"
   ]
  },
  {
   "cell_type": "code",
   "execution_count": 27,
   "id": "aa4f5c15-ea96-4a7c-8773-e68ce1f46d88",
   "metadata": {
    "tags": []
   },
   "outputs": [
    {
     "data": {
      "text/plain": [
       "<Axes: >"
      ]
     },
     "execution_count": 27,
     "metadata": {},
     "output_type": "execute_result"
    },
    {
     "data": {
      "image/png": "[encoded data removed]",
      "text/plain": [
       "<Figure size 640x480 with 1 Axes>"
      ]
     },
     "metadata": {},
     "output_type": "display_data"
    }
   ],
   "source": [
    "six_most_letters.plot.bar()"
   ]
  },
  {
   "cell_type": "markdown",
   "id": "fd299551-bde6-405d-be9d-a1c34e345602",
   "metadata": {},
   "source": [
    "## Use pandas to create a Series named numbers from the following list:"
   ]
  },
  {
   "cell_type": "code",
   "execution_count": 79,
   "id": "3ce59819-3b12-4940-b973-a796d2a01302",
   "metadata": {},
   "outputs": [],
   "source": [
    "numbers =['$796,459.41', '$278.60', '$482,571.67', '$4,503,915.98', '$2,121,418.3', '$1,260,813.3', '$87,231.01', '$1,509,175.45', '$4,138,548.00', '$2,848,913.80', '$594,715.39', '$4,789,988.17', '$4,513,644.5', '$3,191,059.97', '$1,758,712.24', '$4,338,283.54', '$4,738,303.38', '$2,791,759.67', '$769,681.94', '$452,650.23']\n",
    "number_series = pd.Series(numbers)"
   ]
  },
  {
   "cell_type": "markdown",
   "id": "9f161630-11e5-4b05-9065-e429ed65e60d",
   "metadata": {},
   "source": [
    "### 1. What is the data type of the numbers Series?"
   ]
  },
  {
   "cell_type": "code",
   "execution_count": 80,
   "id": "50601fcd-514c-4608-8026-59b7da3dfb75",
   "metadata": {
    "tags": []
   },
   "outputs": [
    {
     "data": {
      "text/plain": [
       "dtype('O')"
      ]
     },
     "execution_count": 80,
     "metadata": {},
     "output_type": "execute_result"
    }
   ],
   "source": [
    "number_series.dtype"
   ]
  },
  {
   "cell_type": "markdown",
   "id": "311f6b7a-96a1-4bf8-a833-1d394a5a9fd2",
   "metadata": {},
   "source": [
    "### 2. How many elements are in the number Series?"
   ]
  },
  {
   "cell_type": "code",
   "execution_count": 359,
   "id": "fa683a19-6371-4f6b-942c-ac1de64663ef",
   "metadata": {
    "tags": []
   },
   "outputs": [
    {
     "data": {
      "text/plain": [
       "20"
      ]
     },
     "execution_count": 359,
     "metadata": {},
     "output_type": "execute_result"
    }
   ],
   "source": [
    "number_series.size"
   ]
  },
  {
   "cell_type": "markdown",
   "id": "47aa737f-5174-48f6-ac78-5c3e243fe7f3",
   "metadata": {},
   "source": [
    "### 3. Perform the necessary manipulations by accessing Series attributes and methods to convert the numbers Series to a numeric data type."
   ]
  },
  {
   "cell_type": "code",
   "execution_count": 360,
   "id": "d4dff95a-0ac4-4896-8095-dbabf56813e9",
   "metadata": {
    "tags": []
   },
   "outputs": [
    {
     "data": {
      "text/plain": [
       "0       $796,459.41\n",
       "1           $278.60\n",
       "2       $482,571.67\n",
       "3     $4,503,915.98\n",
       "4      $2,121,418.3\n",
       "5      $1,260,813.3\n",
       "6        $87,231.01\n",
       "7     $1,509,175.45\n",
       "8     $4,138,548.00\n",
       "9     $2,848,913.80\n",
       "10      $594,715.39\n",
       "11    $4,789,988.17\n",
       "12     $4,513,644.5\n",
       "13    $3,191,059.97\n",
       "14    $1,758,712.24\n",
       "15    $4,338,283.54\n",
       "16    $4,738,303.38\n",
       "17    $2,791,759.67\n",
       "18      $769,681.94\n",
       "19      $452,650.23\n",
       "dtype: object"
      ]
     },
     "execution_count": 360,
     "metadata": {},
     "output_type": "execute_result"
    }
   ],
   "source": [
    "number_series"
   ]
  },
  {
   "cell_type": "code",
   "execution_count": 84,
   "id": "0ca226ef-7e39-4668-9c33-3f5164c42d08",
   "metadata": {
    "tags": []
   },
   "outputs": [
    {
     "name": "stderr",
     "output_type": "stream",
     "text": [
      "/var/folders/sw/4nk3j1h92wb2t79pkgpn3gcw0000gp/T/ipykernel_30039/550368360.py:1: FutureWarning: The default value of regex will change from True to False in a future version. In addition, single character regular expressions will *not* be treated as literal strings when regex=True.\n",
      "  nice_number = number_series.str.replace('$','').str.replace(',','').astype('float')\n"
     ]
    }
   ],
   "source": [
    "nice_number = number_series.str.replace('$','').str.replace(',','').astype('float')"
   ]
  },
  {
   "cell_type": "markdown",
   "id": "e27107ca-21c4-4e8e-af84-386ca9669101",
   "metadata": {},
   "source": [
    "### 4. Run the code to discover the maximum value from the Series."
   ]
  },
  {
   "cell_type": "code",
   "execution_count": 85,
   "id": "879bbb87-7057-4153-aa97-d8d79dabdc4b",
   "metadata": {
    "tags": []
   },
   "outputs": [
    {
     "data": {
      "text/plain": [
       "4789988.17"
      ]
     },
     "execution_count": 85,
     "metadata": {},
     "output_type": "execute_result"
    }
   ],
   "source": [
    "nice_number.max()"
   ]
  },
  {
   "cell_type": "markdown",
   "id": "cd8dfd3d-6909-4034-bc71-446561b048dd",
   "metadata": {},
   "source": [
    "### 5. Run the code to discover the minimum value from the Series."
   ]
  },
  {
   "cell_type": "code",
   "execution_count": 386,
   "id": "e341f755-e923-4a87-860b-da17f38ca9ea",
   "metadata": {
    "tags": []
   },
   "outputs": [
    {
     "data": {
      "text/plain": [
       "278.6"
      ]
     },
     "execution_count": 386,
     "metadata": {},
     "output_type": "execute_result"
    }
   ],
   "source": [
    "nice_number.min()"
   ]
  },
  {
   "cell_type": "markdown",
   "id": "8230b5ef-c5e1-4bd7-a507-33a3055afc04",
   "metadata": {},
   "source": [
    "### 6. What is the range of the values in the Series?"
   ]
  },
  {
   "cell_type": "code",
   "execution_count": 86,
   "id": "2f2dcd1c-1346-4d25-aa3e-97df19004c71",
   "metadata": {
    "tags": []
   },
   "outputs": [],
   "source": [
    "range_of_numbers = nice_number.max() - nice_number.min()"
   ]
  },
  {
   "cell_type": "code",
   "execution_count": 87,
   "id": "4f32db52-1176-4a73-9c12-7f68718ee40a",
   "metadata": {
    "tags": []
   },
   "outputs": [
    {
     "data": {
      "text/plain": [
       "4789709.57"
      ]
     },
     "execution_count": 87,
     "metadata": {},
     "output_type": "execute_result"
    }
   ],
   "source": [
    "range_of_numbers"
   ]
  },
  {
   "cell_type": "markdown",
   "id": "134721ec-35ff-4192-89a8-3630b4b27a72",
   "metadata": {},
   "source": [
    "### 7. Bin the data into 4 equally sized intervals or bins and output how many values fall into each bin."
   ]
  },
  {
   "cell_type": "code",
   "execution_count": 88,
   "id": "a8a3fb2e-b008-42d7-9322-17c105c40c9c",
   "metadata": {
    "tags": []
   },
   "outputs": [],
   "source": [
    "equal_number_bins = pd.cut(nice_number, bins=4)"
   ]
  },
  {
   "cell_type": "code",
   "execution_count": 91,
   "id": "41235e6b-5385-4658-a85d-5ccb0dd3b251",
   "metadata": {
    "tags": []
   },
   "outputs": [],
   "source": [
    "sorted_numbers = equal_number_bins.value_counts().sort_index(ascending=True)"
   ]
  },
  {
   "cell_type": "code",
   "execution_count": 94,
   "id": "89af45d3-bfc6-4e36-837e-c8b04d48bacf",
   "metadata": {
    "tags": []
   },
   "outputs": [
    {
     "data": {
      "text/plain": [
       "(-4511.11, 1197705.993]       7\n",
       "(1197705.993, 2395133.385]    4\n",
       "(2395133.385, 3592560.778]    3\n",
       "(3592560.778, 4789988.17]     6\n",
       "dtype: int64"
      ]
     },
     "execution_count": 94,
     "metadata": {},
     "output_type": "execute_result"
    }
   ],
   "source": [
    "sorted_numbers"
   ]
  },
  {
   "cell_type": "markdown",
   "id": "7c7717fb-1881-40c3-9821-0f0dc08be3a0",
   "metadata": {},
   "source": [
    "### 8. Plot the binned data in a meaningful way. Be sure to include a title and axis labels."
   ]
  },
  {
   "cell_type": "code",
   "execution_count": 96,
   "id": "38b12f96-0a86-4e88-b64f-fe2750a84ed0",
   "metadata": {
    "tags": []
   },
   "outputs": [
    {
     "data": {
      "text/plain": [
       "[Text(0.5, 0, 'Amount in Bins'), Text(0, 0.5, 'Bin Threshold')]"
      ]
     },
     "execution_count": 96,
     "metadata": {},
     "output_type": "execute_result"
    },
    {
     "data": {
      "image/png": "[encoded data removed]",
      "text/plain": [
       "<Figure size 640x480 with 1 Axes>"
      ]
     },
     "metadata": {},
     "output_type": "display_data"
    }
   ],
   "source": [
    "(sorted_numbers.plot.barh(title = 'Binned Dataset').set(xlabel='Amount in Bins', ylabel='Bin Threshold'))"
   ]
  },
  {
   "cell_type": "markdown",
   "id": "e66e7695-322c-42ad-bd7f-d2bb9baad7d4",
   "metadata": {},
   "source": [
    "## Use pandas to create a Series named exam_scores from the following list:"
   ]
  },
  {
   "cell_type": "code",
   "execution_count": 97,
   "id": "e2cec8d9-0982-493a-8b33-8b8c1a355a39",
   "metadata": {},
   "outputs": [],
   "source": [
    "exam_scores =[60, 86, 75, 62, 93, 71, 60, 83, 95, 78, 65, 72, 69, 81, 96, 80, 85, 92, 82, 78]\n",
    "exam_scores_series = pd.Series(exam_scores)"
   ]
  },
  {
   "cell_type": "markdown",
   "id": "c3df31f8-a100-4ee5-8189-a62d0c22eb63",
   "metadata": {
    "tags": []
   },
   "source": [
    "### 1. How many elements are in the exam_scores Series?"
   ]
  },
  {
   "cell_type": "code",
   "execution_count": 98,
   "id": "8ced8313-3f7a-438e-ad93-adf2fe2139a5",
   "metadata": {
    "tags": []
   },
   "outputs": [
    {
     "data": {
      "text/plain": [
       "20"
      ]
     },
     "execution_count": 98,
     "metadata": {},
     "output_type": "execute_result"
    }
   ],
   "source": [
    "exam_scores_series.size"
   ]
  },
  {
   "cell_type": "markdown",
   "id": "6c253f9e-b071-4a16-b59a-2d9606adcf64",
   "metadata": {},
   "source": [
    "### 2. Run the code to discover the minimum, the maximum, the mean, and the median scores for the exam_scores Series."
   ]
  },
  {
   "cell_type": "code",
   "execution_count": 99,
   "id": "f455438a-59a8-47b7-a910-edef79e6c60a",
   "metadata": {
    "tags": []
   },
   "outputs": [
    {
     "data": {
      "text/plain": [
       "count    20.000000\n",
       "mean     78.150000\n",
       "std      11.352139\n",
       "min      60.000000\n",
       "25%      70.500000\n",
       "50%      79.000000\n",
       "75%      85.250000\n",
       "max      96.000000\n",
       "dtype: float64"
      ]
     },
     "execution_count": 99,
     "metadata": {},
     "output_type": "execute_result"
    }
   ],
   "source": [
    "exam_scores_series.describe()"
   ]
  },
  {
   "cell_type": "code",
   "execution_count": 411,
   "id": "acf2412c-e90d-4423-b4ed-7f8d5a2458fd",
   "metadata": {
    "tags": []
   },
   "outputs": [
    {
     "data": {
      "text/plain": [
       "60"
      ]
     },
     "execution_count": 411,
     "metadata": {},
     "output_type": "execute_result"
    }
   ],
   "source": [
    "exam_scores_series.min()"
   ]
  },
  {
   "cell_type": "code",
   "execution_count": 412,
   "id": "74672c69-bbe5-43cb-8011-ed6c1a706b53",
   "metadata": {
    "tags": []
   },
   "outputs": [
    {
     "data": {
      "text/plain": [
       "96"
      ]
     },
     "execution_count": 412,
     "metadata": {},
     "output_type": "execute_result"
    }
   ],
   "source": [
    "exam_scores_series.max()"
   ]
  },
  {
   "cell_type": "code",
   "execution_count": 413,
   "id": "623cef9e-8ada-4691-8d0d-980f6791ceee",
   "metadata": {
    "tags": []
   },
   "outputs": [
    {
     "data": {
      "text/plain": [
       "78.15"
      ]
     },
     "execution_count": 413,
     "metadata": {},
     "output_type": "execute_result"
    }
   ],
   "source": [
    "exam_scores_series.mean()"
   ]
  },
  {
   "cell_type": "code",
   "execution_count": 414,
   "id": "b4e3b52e-8911-4129-813d-6ac54cd28da1",
   "metadata": {
    "tags": []
   },
   "outputs": [
    {
     "data": {
      "text/plain": [
       "79.0"
      ]
     },
     "execution_count": 414,
     "metadata": {},
     "output_type": "execute_result"
    }
   ],
   "source": [
    "exam_scores_series.median()"
   ]
  },
  {
   "cell_type": "markdown",
   "id": "75c5b229-21b3-4cb5-97ff-9a4e837ba7e0",
   "metadata": {},
   "source": [
    "### 3. Plot the Series in a meaningful way and make sure your chart has a title and axis labels."
   ]
  },
  {
   "cell_type": "code",
   "execution_count": 101,
   "id": "f4193fc2-6774-44ba-b321-7acf6e98bf62",
   "metadata": {
    "tags": []
   },
   "outputs": [
    {
     "data": {
      "text/plain": [
       "0     60\n",
       "1     86\n",
       "2     75\n",
       "3     62\n",
       "4     93\n",
       "5     71\n",
       "6     60\n",
       "7     83\n",
       "8     95\n",
       "9     78\n",
       "10    65\n",
       "11    72\n",
       "12    69\n",
       "13    81\n",
       "14    96\n",
       "15    80\n",
       "16    85\n",
       "17    92\n",
       "18    82\n",
       "19    78\n",
       "dtype: int64"
      ]
     },
     "execution_count": 101,
     "metadata": {},
     "output_type": "execute_result"
    }
   ],
   "source": [
    "exam_scores_series"
   ]
  },
  {
   "cell_type": "code",
   "execution_count": 100,
   "id": "8bc7492d-74f9-4bbd-be64-8d03d6b692f7",
   "metadata": {
    "tags": []
   },
   "outputs": [
    {
     "data": {
      "text/plain": [
       "[Text(0.5, 0, 'Student'), Text(0, 0.5, 'Scores')]"
      ]
     },
     "execution_count": 100,
     "metadata": {},
     "output_type": "execute_result"
    },
    {
     "data": {
      "image/png": "[encoded data removed]",
      "text/plain": [
       "<Figure size 640x480 with 1 Axes>"
      ]
     },
     "metadata": {},
     "output_type": "display_data"
    }
   ],
   "source": [
    "exam_scores_series.plot.bar(title='Exam Scores',\n",
    "                            rot=0\n",
    "                           ).set(xlabel='Student',\n",
    "                                 ylabel='Scores')"
   ]
  },
  {
   "cell_type": "code",
   "execution_count": 102,
   "id": "d224826a-0e4b-4653-b51e-d7388cc960e0",
   "metadata": {
    "tags": []
   },
   "outputs": [],
   "source": [
    "sorted_scores = exam_scores_series.sort_values(ascending=True)"
   ]
  },
  {
   "cell_type": "code",
   "execution_count": 103,
   "id": "aa5acab1-c863-41a3-a2a8-5e331bd577d9",
   "metadata": {
    "tags": []
   },
   "outputs": [
    {
     "data": {
      "text/plain": [
       "0     60\n",
       "6     60\n",
       "3     62\n",
       "10    65\n",
       "12    69\n",
       "5     71\n",
       "11    72\n",
       "2     75\n",
       "9     78\n",
       "19    78\n",
       "15    80\n",
       "13    81\n",
       "18    82\n",
       "7     83\n",
       "16    85\n",
       "1     86\n",
       "17    92\n",
       "4     93\n",
       "8     95\n",
       "14    96\n",
       "dtype: int64"
      ]
     },
     "execution_count": 103,
     "metadata": {},
     "output_type": "execute_result"
    }
   ],
   "source": [
    "sorted_scores"
   ]
  },
  {
   "cell_type": "code",
   "execution_count": 55,
   "id": "252c52da-a84e-43e8-bd1f-c2f525a0adf0",
   "metadata": {
    "tags": []
   },
   "outputs": [
    {
     "data": {
      "text/plain": [
       "[Text(0.5, 0, 'Student'), Text(0, 0.5, 'Scores')]"
      ]
     },
     "execution_count": 55,
     "metadata": {},
     "output_type": "execute_result"
    },
    {
     "data": {
      "image/png": "[encoded data removed]",
      "text/plain": [
       "<Figure size 640x480 with 1 Axes>"
      ]
     },
     "metadata": {},
     "output_type": "display_data"
    }
   ],
   "source": [
    "sorted_scores.plot.bar(title='Exam Scores',\n",
    "                            rot=0\n",
    "                           ).set(xlabel='Student',\n",
    "                                 ylabel='Scores')"
   ]
  },
  {
   "cell_type": "markdown",
   "id": "607e3c78-060d-4490-943b-aa27ed500540",
   "metadata": {},
   "source": [
    "### 4. Write the code necessary to implement a curve for your exam_grades Series and save this as curved_grades. Add the necessary points to the highest grade to make it 100, and add the same number of points to every other score in the Series as well."
   ]
  },
  {
   "cell_type": "code",
   "execution_count": 18,
   "id": "9873b4a9-3529-4ef7-a361-bbafc44018dc",
   "metadata": {
    "tags": []
   },
   "outputs": [],
   "source": [
    "curved_grades = exam_scores_series + 4"
   ]
  },
  {
   "cell_type": "code",
   "execution_count": 56,
   "id": "23438e61-ddb8-49e6-b334-e475621b1ab2",
   "metadata": {
    "tags": []
   },
   "outputs": [
    {
     "data": {
      "text/plain": [
       "0      64\n",
       "6      64\n",
       "3      66\n",
       "10     69\n",
       "12     73\n",
       "5      75\n",
       "11     76\n",
       "2      79\n",
       "9      82\n",
       "19     82\n",
       "15     84\n",
       "13     85\n",
       "18     86\n",
       "7      87\n",
       "16     89\n",
       "1      90\n",
       "17     96\n",
       "4      97\n",
       "8      99\n",
       "14    100\n",
       "dtype: int64"
      ]
     },
     "execution_count": 56,
     "metadata": {},
     "output_type": "execute_result"
    }
   ],
   "source": [
    "curved_grades.sort_values(ascending=True)"
   ]
  },
  {
   "cell_type": "markdown",
   "id": "834efdd4-1936-489f-be6d-c26c1018d972",
   "metadata": {},
   "source": [
    "### 5. Use a method to convert each of the numeric values in the curved_grades Series into a categorical value of letter grades. For example, 86 should be a 'B' and 95 should be an 'A'. Save this as a Series named letter_grades."
   ]
  },
  {
   "cell_type": "code",
   "execution_count": 136,
   "id": "a97ccf46-9ebd-4436-82dc-029693f19e71",
   "metadata": {
    "tags": []
   },
   "outputs": [],
   "source": [
    "bin_edges = [0,70,75,80,90,100]\n",
    "bin_labels = ['F', 'D', 'C', 'B', 'A']\n",
    "letter_grades = pd.cut(curved_grades, bins=bin_edges, labels=bin_labels)"
   ]
  },
  {
   "cell_type": "code",
   "execution_count": 137,
   "id": "98a33332-a333-43ec-a3d8-3f17c64f2ad2",
   "metadata": {
    "tags": []
   },
   "outputs": [
    {
     "data": {
      "text/plain": [
       "B    8\n",
       "F    4\n",
       "A    4\n",
       "D    2\n",
       "C    2\n",
       "dtype: int64"
      ]
     },
     "execution_count": 137,
     "metadata": {},
     "output_type": "execute_result"
    }
   ],
   "source": [
    "letter_grades = letter_grades.value_counts()\n",
    "letter_grades"
   ]
  },
  {
   "cell_type": "markdown",
   "id": "23c8c85f-21d4-4ee8-b79f-c3d33d55a274",
   "metadata": {},
   "source": [
    "### 6. Plot your new categorical letter_grades Series in a meaninful way and include a title and axis labels."
   ]
  },
  {
   "cell_type": "code",
   "execution_count": 140,
   "id": "7e65211a-40c4-4b6c-9786-a5306f76125c",
   "metadata": {},
   "outputs": [
    {
     "data": {
      "text/plain": [
       "[Text(0.5, 0, 'Grade'), Text(0, 0.5, 'Number of Students')]"
      ]
     },
     "execution_count": 140,
     "metadata": {},
     "output_type": "execute_result"
    },
    {
     "data": {
      "image/png": "[encoded data removed]",
      "text/plain": [
       "<Figure size 640x480 with 1 Axes>"
      ]
     },
     "metadata": {},
     "output_type": "display_data"
    }
   ],
   "source": [
    "letter_grades.plot.bar(title = 'Exam Scores by Letter Grade', rot = 0).set(xlabel = 'Grade',\n",
    "                                 ylabel = 'Number of Students')"
   ]
  }
 ],
 "metadata": {
  "kernelspec": {
   "display_name": "Python 3 (ipykernel)",
   "language": "python",
   "name": "python3"
  },
  "language_info": {
   "codemirror_mode": {
    "name": "ipython",
    "version": 3
   },
   "file_extension": ".py",
   "mimetype": "text/x-python",
   "name": "python",
   "nbconvert_exporter": "python",
   "pygments_lexer": "ipython3",
   "version": "3.11.3"
  }
 },
 "nbformat": 4,
 "nbformat_minor": 5
}
