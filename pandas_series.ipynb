{
 "cells": [
  {
   "cell_type": "markdown",
   "id": "e87ff472-148e-4102-8be9-05b931f4e486",
   "metadata": {},
   "source": [
    "# Exercises Part I"
   ]
  },
  {
   "cell_type": "code",
   "execution_count": 105,
   "id": "f71373a1-e3d6-49bc-817a-d864e56cb1fd",
   "metadata": {
    "tags": []
   },
   "outputs": [],
   "source": [
    "import pandas as pd\n",
    "import numpy as np"
   ]
  },
  {
   "cell_type": "markdown",
   "id": "33cf8b8d-32c2-4f44-b1d3-13affacccf09",
   "metadata": {},
   "source": [
    "## Use pandas to create a Series named fruits from the following list:"
   ]
  },
  {
   "cell_type": "code",
   "execution_count": 106,
   "id": "7c3f0f33-0e63-42c8-8dda-804f815bae57",
   "metadata": {
    "tags": []
   },
   "outputs": [],
   "source": [
    "fruit = [\"kiwi\", \"mango\", \"strawberry\", \"pineapple\", \"gala apple\", \"honeycrisp apple\", \"tomato\", \"watermelon\", \"honeydew\", \"kiwi\", \"kiwi\", \"kiwi\", \"mango\", \"blueberry\", \"blackberry\", \"gooseberry\", \"papaya\"]\n",
    "fruit_series = pd.Series(fruit)"
   ]
  },
  {
   "cell_type": "code",
   "execution_count": 107,
   "id": "db8946c3-5c71-45cf-8c88-feac2dd4844c",
   "metadata": {
    "tags": []
   },
   "outputs": [
    {
     "data": {
      "text/plain": [
       "0                 kiwi\n",
       "1                mango\n",
       "2           strawberry\n",
       "3            pineapple\n",
       "4           gala apple\n",
       "5     honeycrisp apple\n",
       "6               tomato\n",
       "7           watermelon\n",
       "8             honeydew\n",
       "9                 kiwi\n",
       "10                kiwi\n",
       "11                kiwi\n",
       "12               mango\n",
       "13           blueberry\n",
       "14          blackberry\n",
       "15          gooseberry\n",
       "16              papaya\n",
       "dtype: object"
      ]
     },
     "execution_count": 107,
     "metadata": {},
     "output_type": "execute_result"
    }
   ],
   "source": [
    "fruit_series"
   ]
  },
  {
   "cell_type": "markdown",
   "id": "30d4e92e-ec59-483d-8d57-29427f478f60",
   "metadata": {},
   "source": [
    "## Use Series attributes and methods to explore your fruits Series."
   ]
  },
  {
   "cell_type": "markdown",
   "id": "439e4f38-94af-40d2-a109-cf0136155534",
   "metadata": {},
   "source": [
    "### 1. Determine the number of elements in fruits."
   ]
  },
  {
   "cell_type": "code",
   "execution_count": 108,
   "id": "23cc2f08-d2f2-4ed2-b841-5de14d5bf413",
   "metadata": {
    "tags": []
   },
   "outputs": [
    {
     "data": {
      "text/plain": [
       "17"
      ]
     },
     "execution_count": 108,
     "metadata": {},
     "output_type": "execute_result"
    }
   ],
   "source": [
    "fruit_series.size"
   ]
  },
  {
   "cell_type": "markdown",
   "id": "5463e4cb-bea9-41fa-ba45-1d7b9bb7418d",
   "metadata": {},
   "source": [
    "### 2. Output only the index from fruits."
   ]
  },
  {
   "cell_type": "code",
   "execution_count": 109,
   "id": "ba27d117-4085-4159-8389-362157682941",
   "metadata": {
    "tags": []
   },
   "outputs": [
    {
     "data": {
      "text/plain": [
       "RangeIndex(start=0, stop=17, step=1)"
      ]
     },
     "execution_count": 109,
     "metadata": {},
     "output_type": "execute_result"
    }
   ],
   "source": [
    "fruit_series.index"
   ]
  },
  {
   "cell_type": "markdown",
   "id": "be5b6e2c-9e67-4148-b14b-f12989c34b62",
   "metadata": {},
   "source": [
    "### 3. Output only the values from fruits."
   ]
  },
  {
   "cell_type": "code",
   "execution_count": 110,
   "id": "ef47ccb1-aaeb-4cfe-9eaa-408f89a50907",
   "metadata": {
    "tags": []
   },
   "outputs": [
    {
     "data": {
      "text/plain": [
       "array(['kiwi', 'mango', 'strawberry', 'pineapple', 'gala apple',\n",
       "       'honeycrisp apple', 'tomato', 'watermelon', 'honeydew', 'kiwi',\n",
       "       'kiwi', 'kiwi', 'mango', 'blueberry', 'blackberry', 'gooseberry',\n",
       "       'papaya'], dtype=object)"
      ]
     },
     "execution_count": 110,
     "metadata": {},
     "output_type": "execute_result"
    }
   ],
   "source": [
    "fruit_series.values"
   ]
  },
  {
   "cell_type": "markdown",
   "id": "b3984c11-694b-4800-8991-3585d902a8f5",
   "metadata": {},
   "source": [
    "### 4. Confirm the data type of the values in fruits."
   ]
  },
  {
   "cell_type": "code",
   "execution_count": 111,
   "id": "b5bdad1d-07ab-4b44-a765-dceaa9d9b075",
   "metadata": {
    "tags": []
   },
   "outputs": [
    {
     "data": {
      "text/plain": [
       "dtype('O')"
      ]
     },
     "execution_count": 111,
     "metadata": {},
     "output_type": "execute_result"
    }
   ],
   "source": [
    "fruit_series.values.dtype"
   ]
  },
  {
   "cell_type": "markdown",
   "id": "7e704cc6-9c69-4e0e-9d3e-d692980c1b2d",
   "metadata": {},
   "source": [
    "### 5. Output only the first five values from fruits. Output the last three values. Output two random values from fruits."
   ]
  },
  {
   "cell_type": "code",
   "execution_count": 112,
   "id": "785ff75b-307b-4db5-8c81-7b36c1f2b855",
   "metadata": {
    "tags": []
   },
   "outputs": [
    {
     "data": {
      "text/plain": [
       "0          kiwi\n",
       "1         mango\n",
       "2    strawberry\n",
       "3     pineapple\n",
       "4    gala apple\n",
       "dtype: object"
      ]
     },
     "execution_count": 112,
     "metadata": {},
     "output_type": "execute_result"
    }
   ],
   "source": [
    "fruit_series.head(5)"
   ]
  },
  {
   "cell_type": "code",
   "execution_count": 113,
   "id": "c8a8f9e6-14c4-4669-81dd-482769b10b40",
   "metadata": {
    "tags": []
   },
   "outputs": [
    {
     "data": {
      "text/plain": [
       "14    blackberry\n",
       "15    gooseberry\n",
       "16        papaya\n",
       "dtype: object"
      ]
     },
     "execution_count": 113,
     "metadata": {},
     "output_type": "execute_result"
    }
   ],
   "source": [
    "fruit_series.tail(3)"
   ]
  },
  {
   "cell_type": "code",
   "execution_count": 114,
   "id": "ff0d4e5a-8264-4985-9b7c-ab9ff6c012ab",
   "metadata": {
    "tags": []
   },
   "outputs": [
    {
     "data": {
      "text/plain": [
       "12    mango\n",
       "9      kiwi\n",
       "dtype: object"
      ]
     },
     "execution_count": 114,
     "metadata": {},
     "output_type": "execute_result"
    }
   ],
   "source": [
    "fruit_series.sample(2)"
   ]
  },
  {
   "cell_type": "markdown",
   "id": "31743b40-10e9-4e0d-b9bc-6a33eee7151d",
   "metadata": {},
   "source": [
    "### 6. Run the .describe() on fruits to see what information it returns when called on a Series with string values."
   ]
  },
  {
   "cell_type": "code",
   "execution_count": 115,
   "id": "8a961cff-5ade-4b81-b89d-eec242b33982",
   "metadata": {
    "tags": []
   },
   "outputs": [
    {
     "data": {
      "text/plain": [
       "count       17\n",
       "unique      13\n",
       "top       kiwi\n",
       "freq         4\n",
       "dtype: object"
      ]
     },
     "execution_count": 115,
     "metadata": {},
     "output_type": "execute_result"
    }
   ],
   "source": [
    "fruit_series.describe()"
   ]
  },
  {
   "cell_type": "markdown",
   "id": "4d8bc15b-c6e3-4320-94ca-fccb62c6677b",
   "metadata": {},
   "source": [
    "### 7. Run the code necessary to produce only the unique string values from fruits."
   ]
  },
  {
   "cell_type": "code",
   "execution_count": 116,
   "id": "2429807d-68ad-459f-93bd-9152ca5b7e77",
   "metadata": {
    "tags": []
   },
   "outputs": [
    {
     "data": {
      "text/plain": [
       "array(['kiwi', 'mango', 'strawberry', 'pineapple', 'gala apple',\n",
       "       'honeycrisp apple', 'tomato', 'watermelon', 'honeydew',\n",
       "       'blueberry', 'blackberry', 'gooseberry', 'papaya'], dtype=object)"
      ]
     },
     "execution_count": 116,
     "metadata": {},
     "output_type": "execute_result"
    }
   ],
   "source": [
    "fruit_series.unique()"
   ]
  },
  {
   "cell_type": "markdown",
   "id": "d3a2562e-b8e3-4d96-a09b-8bae8e6e3112",
   "metadata": {},
   "source": [
    "### 8. Determine how many times each unique string value occurs in fruits."
   ]
  },
  {
   "cell_type": "code",
   "execution_count": 117,
   "id": "2104e720-bb77-4d48-a6dc-08ba2209a3dc",
   "metadata": {
    "tags": []
   },
   "outputs": [
    {
     "data": {
      "text/plain": [
       "kiwi                4\n",
       "mango               2\n",
       "strawberry          1\n",
       "pineapple           1\n",
       "gala apple          1\n",
       "honeycrisp apple    1\n",
       "tomato              1\n",
       "watermelon          1\n",
       "honeydew            1\n",
       "blueberry           1\n",
       "blackberry          1\n",
       "gooseberry          1\n",
       "papaya              1\n",
       "dtype: int64"
      ]
     },
     "execution_count": 117,
     "metadata": {},
     "output_type": "execute_result"
    }
   ],
   "source": [
    "fruit_series.value_counts()"
   ]
  },
  {
   "cell_type": "markdown",
   "id": "ecf99823-8e65-4760-919d-3292d89830c6",
   "metadata": {},
   "source": [
    "### 9. Determine the string value that occurs most frequently in fruits."
   ]
  },
  {
   "cell_type": "code",
   "execution_count": 125,
   "id": "102fbbb3-0fcc-4ce5-acdd-29253eb2400f",
   "metadata": {
    "tags": []
   },
   "outputs": [
    {
     "data": {
      "text/plain": [
       "kiwi    4\n",
       "dtype: int64"
      ]
     },
     "execution_count": 125,
     "metadata": {},
     "output_type": "execute_result"
    }
   ],
   "source": [
    "fruit_series.value_counts().nlargest(1)"
   ]
  },
  {
   "cell_type": "markdown",
   "id": "ff829ce8-1c4a-426e-ab83-7add02096f86",
   "metadata": {},
   "source": [
    "### 10. Determine the string value that occurs least frequently in fruits."
   ]
  },
  {
   "cell_type": "code",
   "execution_count": 126,
   "id": "a99467cc-5cc1-4d5e-9798-2cd9d66da7f0",
   "metadata": {
    "tags": []
   },
   "outputs": [
    {
     "data": {
      "text/plain": [
       "strawberry          1\n",
       "pineapple           1\n",
       "gala apple          1\n",
       "honeycrisp apple    1\n",
       "tomato              1\n",
       "watermelon          1\n",
       "honeydew            1\n",
       "blueberry           1\n",
       "blackberry          1\n",
       "gooseberry          1\n",
       "papaya              1\n",
       "dtype: int64"
      ]
     },
     "execution_count": 126,
     "metadata": {},
     "output_type": "execute_result"
    }
   ],
   "source": [
    "fruit_series.value_counts().nsmallest(1,keep='all')"
   ]
  },
  {
   "cell_type": "markdown",
   "id": "91869ee6-6821-4227-adab-3d489866ce8c",
   "metadata": {},
   "source": [
    "# Exercises Part II"
   ]
  },
  {
   "cell_type": "markdown",
   "id": "189c348b-e16f-4f0b-9f30-04adac3ab474",
   "metadata": {},
   "source": [
    "### 1. Capitalize all the string values in fruits."
   ]
  },
  {
   "cell_type": "code",
   "execution_count": 127,
   "id": "0bedc8d1-46c5-460f-82e2-ce1910cf1a1d",
   "metadata": {
    "tags": []
   },
   "outputs": [
    {
     "data": {
      "text/plain": [
       "0                 KIWI\n",
       "1                MANGO\n",
       "2           STRAWBERRY\n",
       "3            PINEAPPLE\n",
       "4           GALA APPLE\n",
       "5     HONEYCRISP APPLE\n",
       "6               TOMATO\n",
       "7           WATERMELON\n",
       "8             HONEYDEW\n",
       "9                 KIWI\n",
       "10                KIWI\n",
       "11                KIWI\n",
       "12               MANGO\n",
       "13           BLUEBERRY\n",
       "14          BLACKBERRY\n",
       "15          GOOSEBERRY\n",
       "16              PAPAYA\n",
       "dtype: object"
      ]
     },
     "execution_count": 127,
     "metadata": {},
     "output_type": "execute_result"
    }
   ],
   "source": [
    "fruit_series.str.upper()"
   ]
  },
  {
   "cell_type": "markdown",
   "id": "ba9b7f27-ead1-40a1-ad7b-c53a6ea4642a",
   "metadata": {},
   "source": [
    "### 2. Count the letter \"a\" in all the string values (use string vectorization)."
   ]
  },
  {
   "cell_type": "code",
   "execution_count": 128,
   "id": "b45984f7-c2c3-4cbd-818f-a4a488c4b456",
   "metadata": {
    "tags": []
   },
   "outputs": [
    {
     "data": {
      "text/plain": [
       "0     0\n",
       "1     1\n",
       "2     1\n",
       "3     1\n",
       "4     3\n",
       "5     1\n",
       "6     1\n",
       "7     1\n",
       "8     0\n",
       "9     0\n",
       "10    0\n",
       "11    0\n",
       "12    1\n",
       "13    0\n",
       "14    1\n",
       "15    0\n",
       "16    3\n",
       "dtype: int64"
      ]
     },
     "execution_count": 128,
     "metadata": {},
     "output_type": "execute_result"
    }
   ],
   "source": [
    "fruit_series.str.count('a')"
   ]
  },
  {
   "cell_type": "markdown",
   "id": "5c13bd92-0c4b-432b-979f-9e4c5c2148e5",
   "metadata": {},
   "source": [
    "### 3. Output the number of vowels in each and every string value."
   ]
  },
  {
   "cell_type": "code",
   "execution_count": 299,
   "id": "124d27df-f0b9-40e4-b93d-97f0b63414d3",
   "metadata": {
    "tags": []
   },
   "outputs": [],
   "source": [
    "vowel = ['aeiou']"
   ]
  },
  {
   "cell_type": "code",
   "execution_count": 300,
   "id": "6a543c34-dc03-432d-bd6c-027086cd8912",
   "metadata": {
    "tags": []
   },
   "outputs": [
    {
     "data": {
      "text/plain": [
       "0                 kiwi\n",
       "1                mango\n",
       "2           strawberry\n",
       "3            pineapple\n",
       "4           gala apple\n",
       "5     honeycrisp apple\n",
       "6               tomato\n",
       "7           watermelon\n",
       "8             honeydew\n",
       "9                 kiwi\n",
       "10                kiwi\n",
       "11                kiwi\n",
       "12               mango\n",
       "13           blueberry\n",
       "14          blackberry\n",
       "15          gooseberry\n",
       "16              papaya\n",
       "dtype: object"
      ]
     },
     "execution_count": 300,
     "metadata": {},
     "output_type": "execute_result"
    }
   ],
   "source": [
    "fruit_series"
   ]
  },
  {
   "cell_type": "code",
   "execution_count": 321,
   "id": "eb1ada20-015f-434e-b32a-06e4f09acc9f",
   "metadata": {
    "tags": []
   },
   "outputs": [
    {
     "data": {
      "text/plain": [
       "0"
      ]
     },
     "execution_count": 321,
     "metadata": {},
     "output_type": "execute_result"
    }
   ],
   "source": [
    "sum(map(fruit.count, vowel))"
   ]
  },
  {
   "cell_type": "code",
   "execution_count": 335,
   "id": "d016c250-f7bd-4c31-9291-e22392c14ca6",
   "metadata": {
    "tags": []
   },
   "outputs": [],
   "source": [
    "def vowels(s):\n",
    "    count = 0\n",
    "    vowels = ['a', 'e', 'i', 'o', 'u']\n",
    "    for c in vowels:\n",
    "        count += 1\n",
    "    return count"
   ]
  },
  {
   "cell_type": "code",
   "execution_count": 336,
   "id": "881690e8-0e9d-4f31-ab21-641ab74098a1",
   "metadata": {
    "tags": []
   },
   "outputs": [],
   "source": [
    "for s in fruit_series:\n",
    "    n_vowels = vowels(s)"
   ]
  },
  {
   "cell_type": "code",
   "execution_count": 337,
   "id": "8f793d05-b1fc-44cf-bee2-aea8e918e50e",
   "metadata": {
    "tags": []
   },
   "outputs": [
    {
     "data": {
      "text/plain": [
       "5"
      ]
     },
     "execution_count": 337,
     "metadata": {},
     "output_type": "execute_result"
    }
   ],
   "source": [
    "n_vowels"
   ]
  },
  {
   "cell_type": "code",
   "execution_count": 325,
   "id": "982e0065-79b8-43d4-885b-7ccfd738911f",
   "metadata": {
    "tags": []
   },
   "outputs": [
    {
     "name": "stdout",
     "output_type": "stream",
     "text": [
      "papaya 5\n"
     ]
    }
   ],
   "source": [
    "print(f'{s} {n_vowels}')"
   ]
  },
  {
   "cell_type": "code",
   "execution_count": 170,
   "id": "a1d9e3d0-21cf-4781-ad8e-4b57374824f4",
   "metadata": {
    "collapsed": true,
    "jupyter": {
     "outputs_hidden": true
    },
    "tags": []
   },
   "outputs": [
    {
     "data": {
      "text/plain": [
       "2      i\n",
       "4      i\n",
       "10     a\n",
       "13     o\n",
       "21     a\n",
       "24     e\n",
       "33     i\n",
       "35     e\n",
       "36     a\n",
       "40     e\n",
       "46     a\n",
       "48     a\n",
       "50     a\n",
       "54     e\n",
       "60     o\n",
       "62     e\n",
       "66     i\n",
       "70     a\n",
       "74     e\n",
       "80     o\n",
       "82     a\n",
       "84     o\n",
       "90     a\n",
       "92     e\n",
       "95     e\n",
       "97     o\n",
       "104    o\n",
       "106    e\n",
       "109    e\n",
       "116    i\n",
       "118    i\n",
       "124    i\n",
       "126    i\n",
       "132    i\n",
       "134    i\n",
       "140    a\n",
       "143    o\n",
       "150    u\n",
       "151    e\n",
       "153    e\n",
       "163    a\n",
       "167    e\n",
       "176    o\n",
       "177    o\n",
       "179    e\n",
       "181    e\n",
       "190    a\n",
       "192    a\n",
       "194    a\n",
       "dtype: object"
      ]
     },
     "execution_count": 170,
     "metadata": {},
     "output_type": "execute_result"
    }
   ],
   "source": [
    "fruit_series_from_list[fruit_series_from_list.isin(vowels)]"
   ]
  },
  {
   "cell_type": "markdown",
   "id": "c4448622-a398-477f-9f9d-6cf5cb7a9967",
   "metadata": {},
   "source": [
    "### 4. Write the code to get the longest string value from fruits."
   ]
  },
  {
   "cell_type": "code",
   "execution_count": 232,
   "id": "ea29d9fd-352c-4ec2-ba41-a3c5ed247ad6",
   "metadata": {
    "tags": []
   },
   "outputs": [
    {
     "data": {
      "text/plain": [
       "'honeycrisp apple'"
      ]
     },
     "execution_count": 232,
     "metadata": {},
     "output_type": "execute_result"
    }
   ],
   "source": [
    "max(fruit, key = len)"
   ]
  },
  {
   "cell_type": "code",
   "execution_count": 231,
   "id": "166b4fbd-fa48-4aac-ac15-fd705c910664",
   "metadata": {
    "tags": []
   },
   "outputs": [
    {
     "data": {
      "text/plain": [
       "17"
      ]
     },
     "execution_count": 231,
     "metadata": {},
     "output_type": "execute_result"
    }
   ],
   "source": [
    "len(fruit_series)"
   ]
  },
  {
   "cell_type": "code",
   "execution_count": 272,
   "id": "4c9ca5aa-6e49-44df-871c-d08c8f2a8a1f",
   "metadata": {
    "tags": []
   },
   "outputs": [
    {
     "data": {
      "text/plain": [
       "[4, 5, 10, 9, 10, 16, 6, 10, 8, 4, 4, 4, 5, 9, 10, 10, 6]"
      ]
     },
     "execution_count": 272,
     "metadata": {},
     "output_type": "execute_result"
    }
   ],
   "source": [
    "fruit_length = [len(f) for f in fruit]\n",
    "fruit_length"
   ]
  },
  {
   "cell_type": "markdown",
   "id": "11c4cbcb-2fe0-4d08-89f0-63cef8e4f21f",
   "metadata": {
    "tags": []
   },
   "source": [
    "### 5. Write the code to get the string values with 5 or more letters in the name."
   ]
  },
  {
   "cell_type": "code",
   "execution_count": 281,
   "id": "4f7f4ded-bcda-4d88-84f3-7f602af662e8",
   "metadata": {
    "tags": []
   },
   "outputs": [],
   "source": [
    "def greater_than_five(fruit_length):\n",
    "    if fruit_length > 5:\n",
    "        return"
   ]
  },
  {
   "cell_type": "code",
   "execution_count": 280,
   "id": "01ac5360-b77e-40f1-9fe1-405c4dae5188",
   "metadata": {
    "tags": []
   },
   "outputs": [
    {
     "ename": "TypeError",
     "evalue": "'>' not supported between instances of 'str' and 'list'",
     "output_type": "error",
     "traceback": [
      "\u001b[0;31m---------------------------------------------------------------------------\u001b[0m",
      "\u001b[0;31mTypeError\u001b[0m                                 Traceback (most recent call last)",
      "Cell \u001b[0;32mIn[280], line 1\u001b[0m\n\u001b[0;32m----> 1\u001b[0m fruit_series\u001b[38;5;241m.\u001b[39mapply(greater_than_five)\n",
      "File \u001b[0;32m/usr/local/anaconda3/lib/python3.11/site-packages/pandas/core/series.py:4771\u001b[0m, in \u001b[0;36mSeries.apply\u001b[0;34m(self, func, convert_dtype, args, **kwargs)\u001b[0m\n\u001b[1;32m   4661\u001b[0m \u001b[38;5;28;01mdef\u001b[39;00m \u001b[38;5;21mapply\u001b[39m(\n\u001b[1;32m   4662\u001b[0m     \u001b[38;5;28mself\u001b[39m,\n\u001b[1;32m   4663\u001b[0m     func: AggFuncType,\n\u001b[0;32m   (...)\u001b[0m\n\u001b[1;32m   4666\u001b[0m     \u001b[38;5;241m*\u001b[39m\u001b[38;5;241m*\u001b[39mkwargs,\n\u001b[1;32m   4667\u001b[0m ) \u001b[38;5;241m-\u001b[39m\u001b[38;5;241m>\u001b[39m DataFrame \u001b[38;5;241m|\u001b[39m Series:\n\u001b[1;32m   4668\u001b[0m \u001b[38;5;250m    \u001b[39m\u001b[38;5;124;03m\"\"\"\u001b[39;00m\n\u001b[1;32m   4669\u001b[0m \u001b[38;5;124;03m    Invoke function on values of Series.\u001b[39;00m\n\u001b[1;32m   4670\u001b[0m \n\u001b[0;32m   (...)\u001b[0m\n\u001b[1;32m   4769\u001b[0m \u001b[38;5;124;03m    dtype: float64\u001b[39;00m\n\u001b[1;32m   4770\u001b[0m \u001b[38;5;124;03m    \"\"\"\u001b[39;00m\n\u001b[0;32m-> 4771\u001b[0m     \u001b[38;5;28;01mreturn\u001b[39;00m SeriesApply(\u001b[38;5;28mself\u001b[39m, func, convert_dtype, args, kwargs)\u001b[38;5;241m.\u001b[39mapply()\n",
      "File \u001b[0;32m/usr/local/anaconda3/lib/python3.11/site-packages/pandas/core/apply.py:1123\u001b[0m, in \u001b[0;36mSeriesApply.apply\u001b[0;34m(self)\u001b[0m\n\u001b[1;32m   1120\u001b[0m     \u001b[38;5;28;01mreturn\u001b[39;00m \u001b[38;5;28mself\u001b[39m\u001b[38;5;241m.\u001b[39mapply_str()\n\u001b[1;32m   1122\u001b[0m \u001b[38;5;66;03m# self.f is Callable\u001b[39;00m\n\u001b[0;32m-> 1123\u001b[0m \u001b[38;5;28;01mreturn\u001b[39;00m \u001b[38;5;28mself\u001b[39m\u001b[38;5;241m.\u001b[39mapply_standard()\n",
      "File \u001b[0;32m/usr/local/anaconda3/lib/python3.11/site-packages/pandas/core/apply.py:1174\u001b[0m, in \u001b[0;36mSeriesApply.apply_standard\u001b[0;34m(self)\u001b[0m\n\u001b[1;32m   1172\u001b[0m     \u001b[38;5;28;01melse\u001b[39;00m:\n\u001b[1;32m   1173\u001b[0m         values \u001b[38;5;241m=\u001b[39m obj\u001b[38;5;241m.\u001b[39mastype(\u001b[38;5;28mobject\u001b[39m)\u001b[38;5;241m.\u001b[39m_values\n\u001b[0;32m-> 1174\u001b[0m         mapped \u001b[38;5;241m=\u001b[39m lib\u001b[38;5;241m.\u001b[39mmap_infer(\n\u001b[1;32m   1175\u001b[0m             values,\n\u001b[1;32m   1176\u001b[0m             f,\n\u001b[1;32m   1177\u001b[0m             convert\u001b[38;5;241m=\u001b[39m\u001b[38;5;28mself\u001b[39m\u001b[38;5;241m.\u001b[39mconvert_dtype,\n\u001b[1;32m   1178\u001b[0m         )\n\u001b[1;32m   1180\u001b[0m \u001b[38;5;28;01mif\u001b[39;00m \u001b[38;5;28mlen\u001b[39m(mapped) \u001b[38;5;129;01mand\u001b[39;00m \u001b[38;5;28misinstance\u001b[39m(mapped[\u001b[38;5;241m0\u001b[39m], ABCSeries):\n\u001b[1;32m   1181\u001b[0m     \u001b[38;5;66;03m# GH#43986 Need to do list(mapped) in order to get treated as nested\u001b[39;00m\n\u001b[1;32m   1182\u001b[0m     \u001b[38;5;66;03m#  See also GH#25959 regarding EA support\u001b[39;00m\n\u001b[1;32m   1183\u001b[0m     \u001b[38;5;28;01mreturn\u001b[39;00m obj\u001b[38;5;241m.\u001b[39m_constructor_expanddim(\u001b[38;5;28mlist\u001b[39m(mapped), index\u001b[38;5;241m=\u001b[39mobj\u001b[38;5;241m.\u001b[39mindex)\n",
      "File \u001b[0;32m/usr/local/anaconda3/lib/python3.11/site-packages/pandas/_libs/lib.pyx:2924\u001b[0m, in \u001b[0;36mpandas._libs.lib.map_infer\u001b[0;34m()\u001b[0m\n",
      "Cell \u001b[0;32mIn[279], line 2\u001b[0m, in \u001b[0;36mgreater_than_five\u001b[0;34m(fruit_length)\u001b[0m\n\u001b[1;32m      1\u001b[0m \u001b[38;5;28;01mdef\u001b[39;00m \u001b[38;5;21mgreater_than_five\u001b[39m(fruit_length):\n\u001b[0;32m----> 2\u001b[0m     \u001b[38;5;28;01mif\u001b[39;00m fruit_length \u001b[38;5;241m>\u001b[39m [\u001b[38;5;241m5\u001b[39m]:\n\u001b[1;32m      3\u001b[0m         \u001b[38;5;28;01mreturn\u001b[39;00m\n",
      "\u001b[0;31mTypeError\u001b[0m: '>' not supported between instances of 'str' and 'list'"
     ]
    }
   ],
   "source": [
    "fruit_series.apply(greater_than_five)"
   ]
  },
  {
   "cell_type": "markdown",
   "id": "e4f0b270-77aa-4dd8-af36-d682e1b946e0",
   "metadata": {},
   "source": [
    "### 6. Find the fruit(s) containing the letter \"o\" two or more times."
   ]
  },
  {
   "cell_type": "code",
   "execution_count": null,
   "id": "872363a7-53ef-4ab5-8565-3ae51faab63b",
   "metadata": {},
   "outputs": [],
   "source": []
  },
  {
   "cell_type": "markdown",
   "id": "cec4dfaf-139b-4e78-bbca-bd9f826bcc5c",
   "metadata": {},
   "source": [
    "### 7. Write the code to get only the string values containing the substring \"berry\"."
   ]
  },
  {
   "cell_type": "code",
   "execution_count": null,
   "id": "ce4e6b9d-9b76-4947-8750-c7bd7d3d3cc8",
   "metadata": {},
   "outputs": [],
   "source": []
  },
  {
   "cell_type": "markdown",
   "id": "21218a02-079a-48cb-a2b1-6e7ce385cce7",
   "metadata": {},
   "source": [
    "### 8. Write the code to get only the string values containing the substring \"apple\"."
   ]
  },
  {
   "cell_type": "code",
   "execution_count": null,
   "id": "3e5e8c0f-1d59-43b1-8210-cdf1629227dc",
   "metadata": {},
   "outputs": [],
   "source": []
  },
  {
   "cell_type": "markdown",
   "id": "bdd97bf8-67d0-4937-8d69-1a7c7b7a3018",
   "metadata": {},
   "source": [
    "### 9. Which string value contains the most vowels?"
   ]
  },
  {
   "cell_type": "code",
   "execution_count": null,
   "id": "295d9928-161a-458d-a800-e8045db0cd80",
   "metadata": {},
   "outputs": [],
   "source": []
  },
  {
   "cell_type": "markdown",
   "id": "aafc5a90-a90e-4065-94e8-0c69fa451d3f",
   "metadata": {},
   "source": [
    "# Exercises Part III"
   ]
  },
  {
   "cell_type": "markdown",
   "id": "0c61d5a9-c87d-46fb-b6fe-18164a662576",
   "metadata": {},
   "source": [
    "## Use pandas to create a Series named letters from the following string. The easiest way to make this string into a Pandas series is to use list to convert each individual letter into a single string on a basic Python list."
   ]
  },
  {
   "cell_type": "code",
   "execution_count": 350,
   "id": "bae273e2-e0fe-4a81-a380-b8204c43c91d",
   "metadata": {},
   "outputs": [],
   "source": [
    "letters = ('hnvidduckkqxwymbimkccexbkmqygkxoyndmcxnwqarhyffsjpsrabtjzsypmzadfavyrnndndvswreauxovncxtwzpwejilzjrmmbbgbyxvjtewqthafnbkqplarokkyydtubbmnexoypulzwfhqvckdpqtpoppzqrmcvhhpwgjwupgzhiofohawytlsiyecuproguy')\n",
    "letter_series = pd.Series(list(letters))"
   ]
  },
  {
   "cell_type": "markdown",
   "id": "df0609c4-b680-406b-9f35-fcc2d1028a45",
   "metadata": {
    "tags": []
   },
   "source": [
    "### 1. Which letter occurs the most frequently in the letters Series?"
   ]
  },
  {
   "cell_type": "code",
   "execution_count": 351,
   "id": "6a4d96c8-3428-4416-9cde-319e0bf28397",
   "metadata": {
    "tags": []
   },
   "outputs": [
    {
     "data": {
      "text/plain": [
       "y    13\n",
       "dtype: int64"
      ]
     },
     "execution_count": 351,
     "metadata": {},
     "output_type": "execute_result"
    }
   ],
   "source": [
    "letter_series.value_counts().nlargest(1)"
   ]
  },
  {
   "cell_type": "markdown",
   "id": "ef1f2537-d02c-4e27-b26b-587131ca7b8c",
   "metadata": {},
   "source": [
    "### 2. Which letter occurs the Least frequently?"
   ]
  },
  {
   "cell_type": "code",
   "execution_count": 352,
   "id": "8f198f6c-3eb0-44be-a0fb-c1c6da701496",
   "metadata": {
    "tags": []
   },
   "outputs": [
    {
     "data": {
      "text/plain": [
       "l    4\n",
       "dtype: int64"
      ]
     },
     "execution_count": 352,
     "metadata": {},
     "output_type": "execute_result"
    }
   ],
   "source": [
    "letter_series.value_counts().nsmallest(1)"
   ]
  },
  {
   "cell_type": "markdown",
   "id": "ec568388-d4b8-40d8-b66d-83c8616dbf9b",
   "metadata": {},
   "source": [
    "### 3. How many vowels are in the Series?"
   ]
  },
  {
   "cell_type": "code",
   "execution_count": null,
   "id": "5ae4167f-ea73-42b3-be72-32802562ac98",
   "metadata": {},
   "outputs": [],
   "source": []
  },
  {
   "cell_type": "markdown",
   "id": "e7742848-5174-4686-90c8-3dcf6997d9d4",
   "metadata": {},
   "source": [
    "### 4. How many consonants are in the Series?"
   ]
  },
  {
   "cell_type": "code",
   "execution_count": null,
   "id": "c882bb82-bfd3-491e-b1bd-73effbff04ef",
   "metadata": {},
   "outputs": [],
   "source": []
  },
  {
   "cell_type": "markdown",
   "id": "fb78f431-16b4-4042-9dd0-ece0e795ff70",
   "metadata": {},
   "source": [
    "### 5. Create a Series that has all of the same letters but uppercased."
   ]
  },
  {
   "cell_type": "code",
   "execution_count": 355,
   "id": "4de3610a-7f88-469c-8bcd-ac3cdf6f8b2d",
   "metadata": {
    "tags": []
   },
   "outputs": [
    {
     "data": {
      "text/plain": [
       "'HNVIDDUCKKQXWYMBIMKCCEXBKMQYGKXOYNDMCXNWQARHYFFSJPSRABTJZSYPMZADFAVYRNNDNDVSWREAUXOVNCXTWZPWEJILZJRMMBBGBYXVJTEWQTHAFNBKQPLAROKKYYDTUBBMNEXOYPULZWFHQVCKDPQTPOPPZQRMCVHHPWGJWUPGZHIOFOHAWYTLSIYECUPROGUY'"
      ]
     },
     "execution_count": 355,
     "metadata": {},
     "output_type": "execute_result"
    }
   ],
   "source": [
    "letters.upper()"
   ]
  },
  {
   "cell_type": "markdown",
   "id": "a6232a0c-3721-4a5b-b1e7-effd3e32af86",
   "metadata": {},
   "source": [
    "### 6. Create a bar plot of the frequencies of the 6 most commonly occuring letters."
   ]
  },
  {
   "cell_type": "code",
   "execution_count": null,
   "id": "85c11a97-c0f9-4ce8-83dd-0366aff107b0",
   "metadata": {},
   "outputs": [],
   "source": []
  },
  {
   "cell_type": "markdown",
   "id": "fd299551-bde6-405d-be9d-a1c34e345602",
   "metadata": {},
   "source": [
    "## Use pandas to create a Series named numbers from the following list:"
   ]
  },
  {
   "cell_type": "code",
   "execution_count": 356,
   "id": "3ce59819-3b12-4940-b973-a796d2a01302",
   "metadata": {},
   "outputs": [],
   "source": [
    "numbers =['$796,459.41', '$278.60', '$482,571.67', '$4,503,915.98', '$2,121,418.3', '$1,260,813.3', '$87,231.01', '$1,509,175.45', '$4,138,548.00', '$2,848,913.80', '$594,715.39', '$4,789,988.17', '$4,513,644.5', '$3,191,059.97', '$1,758,712.24', '$4,338,283.54', '$4,738,303.38', '$2,791,759.67', '$769,681.94', '$452,650.23']\n",
    "number_series = pd.Series(numbers)"
   ]
  },
  {
   "cell_type": "markdown",
   "id": "9f161630-11e5-4b05-9065-e429ed65e60d",
   "metadata": {},
   "source": [
    "### 1. What is the data type of the numbers Series?"
   ]
  },
  {
   "cell_type": "code",
   "execution_count": 357,
   "id": "50601fcd-514c-4608-8026-59b7da3dfb75",
   "metadata": {
    "tags": []
   },
   "outputs": [
    {
     "data": {
      "text/plain": [
       "dtype('O')"
      ]
     },
     "execution_count": 357,
     "metadata": {},
     "output_type": "execute_result"
    }
   ],
   "source": [
    "number_series.dtype"
   ]
  },
  {
   "cell_type": "markdown",
   "id": "311f6b7a-96a1-4bf8-a833-1d394a5a9fd2",
   "metadata": {},
   "source": [
    "### 2. How many elements are in the number Series?"
   ]
  },
  {
   "cell_type": "code",
   "execution_count": 359,
   "id": "fa683a19-6371-4f6b-942c-ac1de64663ef",
   "metadata": {
    "tags": []
   },
   "outputs": [
    {
     "data": {
      "text/plain": [
       "20"
      ]
     },
     "execution_count": 359,
     "metadata": {},
     "output_type": "execute_result"
    }
   ],
   "source": [
    "number_series.size"
   ]
  },
  {
   "cell_type": "markdown",
   "id": "47aa737f-5174-48f6-ac78-5c3e243fe7f3",
   "metadata": {},
   "source": [
    "### 3. Perform the necessary manipulations by accessing Series attributes and methods to convert the numbers Series to a numeric data type."
   ]
  },
  {
   "cell_type": "code",
   "execution_count": 360,
   "id": "d4dff95a-0ac4-4896-8095-dbabf56813e9",
   "metadata": {
    "tags": []
   },
   "outputs": [
    {
     "data": {
      "text/plain": [
       "0       $796,459.41\n",
       "1           $278.60\n",
       "2       $482,571.67\n",
       "3     $4,503,915.98\n",
       "4      $2,121,418.3\n",
       "5      $1,260,813.3\n",
       "6        $87,231.01\n",
       "7     $1,509,175.45\n",
       "8     $4,138,548.00\n",
       "9     $2,848,913.80\n",
       "10      $594,715.39\n",
       "11    $4,789,988.17\n",
       "12     $4,513,644.5\n",
       "13    $3,191,059.97\n",
       "14    $1,758,712.24\n",
       "15    $4,338,283.54\n",
       "16    $4,738,303.38\n",
       "17    $2,791,759.67\n",
       "18      $769,681.94\n",
       "19      $452,650.23\n",
       "dtype: object"
      ]
     },
     "execution_count": 360,
     "metadata": {},
     "output_type": "execute_result"
    }
   ],
   "source": [
    "number_series"
   ]
  },
  {
   "cell_type": "code",
   "execution_count": 372,
   "id": "0ca226ef-7e39-4668-9c33-3f5164c42d08",
   "metadata": {
    "tags": []
   },
   "outputs": [
    {
     "name": "stderr",
     "output_type": "stream",
     "text": [
      "/var/folders/sw/4nk3j1h92wb2t79pkgpn3gcw0000gp/T/ipykernel_28235/550368360.py:1: FutureWarning: The default value of regex will change from True to False in a future version. In addition, single character regular expressions will *not* be treated as literal strings when regex=True.\n",
      "  nice_number = number_series.str.replace('$','').str.replace(',','').astype('float')\n"
     ]
    }
   ],
   "source": [
    "nice_number = number_series.str.replace('$','').str.replace(',','').astype('float')"
   ]
  },
  {
   "cell_type": "code",
   "execution_count": 381,
   "id": "721a6d86-0564-48c4-a8cf-3d234d3e784c",
   "metadata": {
    "tags": []
   },
   "outputs": [
    {
     "data": {
      "text/plain": [
       "count    2.000000e+01\n",
       "mean     2.284406e+06\n",
       "std      1.735261e+06\n",
       "min      2.786000e+02\n",
       "25%      7.259403e+05\n",
       "50%      1.940065e+06\n",
       "75%      4.188482e+06\n",
       "max      4.789988e+06\n",
       "dtype: float64"
      ]
     },
     "execution_count": 381,
     "metadata": {},
     "output_type": "execute_result"
    }
   ],
   "source": [
    "nice_number.describe()"
   ]
  },
  {
   "cell_type": "markdown",
   "id": "e27107ca-21c4-4e8e-af84-386ca9669101",
   "metadata": {},
   "source": [
    "### 4. Run the code to discover the maximum value from the Series."
   ]
  },
  {
   "cell_type": "code",
   "execution_count": 385,
   "id": "879bbb87-7057-4153-aa97-d8d79dabdc4b",
   "metadata": {
    "tags": []
   },
   "outputs": [
    {
     "data": {
      "text/plain": [
       "4789988.17"
      ]
     },
     "execution_count": 385,
     "metadata": {},
     "output_type": "execute_result"
    }
   ],
   "source": [
    "nice_number.max()"
   ]
  },
  {
   "cell_type": "markdown",
   "id": "cd8dfd3d-6909-4034-bc71-446561b048dd",
   "metadata": {},
   "source": [
    "### 5. Run the code to discover the minimum value from the Series."
   ]
  },
  {
   "cell_type": "code",
   "execution_count": 386,
   "id": "e341f755-e923-4a87-860b-da17f38ca9ea",
   "metadata": {
    "tags": []
   },
   "outputs": [
    {
     "data": {
      "text/plain": [
       "278.6"
      ]
     },
     "execution_count": 386,
     "metadata": {},
     "output_type": "execute_result"
    }
   ],
   "source": [
    "nice_number.min()"
   ]
  },
  {
   "cell_type": "markdown",
   "id": "8230b5ef-c5e1-4bd7-a507-33a3055afc04",
   "metadata": {},
   "source": [
    "### 6. What is the range of the values in the Series?"
   ]
  },
  {
   "cell_type": "code",
   "execution_count": 383,
   "id": "2f2dcd1c-1346-4d25-aa3e-97df19004c71",
   "metadata": {
    "tags": []
   },
   "outputs": [],
   "source": [
    "range_of_numbers = nice_number.max() - nice_number.min()"
   ]
  },
  {
   "cell_type": "code",
   "execution_count": 384,
   "id": "4f32db52-1176-4a73-9c12-7f68718ee40a",
   "metadata": {
    "tags": []
   },
   "outputs": [
    {
     "data": {
      "text/plain": [
       "4789709.57"
      ]
     },
     "execution_count": 384,
     "metadata": {},
     "output_type": "execute_result"
    }
   ],
   "source": [
    "range_of_numbers"
   ]
  },
  {
   "cell_type": "markdown",
   "id": "134721ec-35ff-4192-89a8-3630b4b27a72",
   "metadata": {},
   "source": [
    "### 7. Bin the data into 4 equally sized intervals or bins and output how many values fall into each bin."
   ]
  },
  {
   "cell_type": "code",
   "execution_count": 389,
   "id": "a8a3fb2e-b008-42d7-9322-17c105c40c9c",
   "metadata": {
    "tags": []
   },
   "outputs": [],
   "source": [
    "equal_number_bins = pd.cut(nice_number, bins=4)"
   ]
  },
  {
   "cell_type": "code",
   "execution_count": 390,
   "id": "41235e6b-5385-4658-a85d-5ccb0dd3b251",
   "metadata": {
    "tags": []
   },
   "outputs": [
    {
     "data": {
      "text/plain": [
       "(-4511.11, 1197705.993]       7\n",
       "(3592560.778, 4789988.17]     6\n",
       "(1197705.993, 2395133.385]    4\n",
       "(2395133.385, 3592560.778]    3\n",
       "dtype: int64"
      ]
     },
     "execution_count": 390,
     "metadata": {},
     "output_type": "execute_result"
    }
   ],
   "source": [
    "equal_number_bins.value_counts()"
   ]
  },
  {
   "cell_type": "markdown",
   "id": "7c7717fb-1881-40c3-9821-0f0dc08be3a0",
   "metadata": {},
   "source": [
    "### 8. Plot the binned data in a meaningful way. Be sure to include a title and axis labels."
   ]
  },
  {
   "cell_type": "code",
   "execution_count": 408,
   "id": "38b12f96-0a86-4e88-b64f-fe2750a84ed0",
   "metadata": {
    "tags": []
   },
   "outputs": [
    {
     "data": {
      "text/plain": [
       "[Text(0.5, 0, 'Amount in Bins'), Text(0, 0.5, 'Bin Threshold')]"
      ]
     },
     "execution_count": 408,
     "metadata": {},
     "output_type": "execute_result"
    },
    {
     "data": {
      "image/png": "[encoded data removed]",
      "text/plain": [
       "<Figure size 640x480 with 1 Axes>"
      ]
     },
     "metadata": {},
     "output_type": "display_data"
    }
   ],
   "source": [
    "(equal_number_bins.value_counts().plot.barh(title = 'Binned Dataset').set(xlabel='Amount in Bins', ylabel='Bin Threshold'))"
   ]
  },
  {
   "cell_type": "markdown",
   "id": "e66e7695-322c-42ad-bd7f-d2bb9baad7d4",
   "metadata": {},
   "source": [
    "## Use pandas to create a Series named exam_scores from the following list:"
   ]
  },
  {
   "cell_type": "code",
   "execution_count": 409,
   "id": "e2cec8d9-0982-493a-8b33-8b8c1a355a39",
   "metadata": {},
   "outputs": [],
   "source": [
    "exam_scores =[60, 86, 75, 62, 93, 71, 60, 83, 95, 78, 65, 72, 69, 81, 96, 80, 85, 92, 82, 78]\n",
    "exam_scores_series = pd.Series(exam_scores)"
   ]
  },
  {
   "cell_type": "markdown",
   "id": "c3df31f8-a100-4ee5-8189-a62d0c22eb63",
   "metadata": {
    "tags": []
   },
   "source": [
    "### 1. How many elements are in the exam_scores Series?"
   ]
  },
  {
   "cell_type": "code",
   "execution_count": 410,
   "id": "8ced8313-3f7a-438e-ad93-adf2fe2139a5",
   "metadata": {
    "tags": []
   },
   "outputs": [
    {
     "data": {
      "text/plain": [
       "20"
      ]
     },
     "execution_count": 410,
     "metadata": {},
     "output_type": "execute_result"
    }
   ],
   "source": [
    "exam_scores_series.size"
   ]
  },
  {
   "cell_type": "markdown",
   "id": "6c253f9e-b071-4a16-b59a-2d9606adcf64",
   "metadata": {},
   "source": [
    "### 2. Run the code to discover the minimum, the maximum, the mean, and the median scores for the exam_scores Series."
   ]
  },
  {
   "cell_type": "code",
   "execution_count": 411,
   "id": "acf2412c-e90d-4423-b4ed-7f8d5a2458fd",
   "metadata": {
    "tags": []
   },
   "outputs": [
    {
     "data": {
      "text/plain": [
       "60"
      ]
     },
     "execution_count": 411,
     "metadata": {},
     "output_type": "execute_result"
    }
   ],
   "source": [
    "exam_scores_series.min()"
   ]
  },
  {
   "cell_type": "code",
   "execution_count": 412,
   "id": "74672c69-bbe5-43cb-8011-ed6c1a706b53",
   "metadata": {
    "tags": []
   },
   "outputs": [
    {
     "data": {
      "text/plain": [
       "96"
      ]
     },
     "execution_count": 412,
     "metadata": {},
     "output_type": "execute_result"
    }
   ],
   "source": [
    "exam_scores_series.max()"
   ]
  },
  {
   "cell_type": "code",
   "execution_count": 413,
   "id": "623cef9e-8ada-4691-8d0d-980f6791ceee",
   "metadata": {
    "tags": []
   },
   "outputs": [
    {
     "data": {
      "text/plain": [
       "78.15"
      ]
     },
     "execution_count": 413,
     "metadata": {},
     "output_type": "execute_result"
    }
   ],
   "source": [
    "exam_scores_series.mean()"
   ]
  },
  {
   "cell_type": "code",
   "execution_count": 414,
   "id": "b4e3b52e-8911-4129-813d-6ac54cd28da1",
   "metadata": {
    "tags": []
   },
   "outputs": [
    {
     "data": {
      "text/plain": [
       "79.0"
      ]
     },
     "execution_count": 414,
     "metadata": {},
     "output_type": "execute_result"
    }
   ],
   "source": [
    "exam_scores_series.median()"
   ]
  },
  {
   "cell_type": "markdown",
   "id": "75c5b229-21b3-4cb5-97ff-9a4e837ba7e0",
   "metadata": {},
   "source": [
    "### 3. Plot the Series in a meaningful way and make sure your chart has a title and axis labels."
   ]
  },
  {
   "cell_type": "code",
   "execution_count": 416,
   "id": "f4193fc2-6774-44ba-b321-7acf6e98bf62",
   "metadata": {
    "tags": []
   },
   "outputs": [
    {
     "data": {
      "text/plain": [
       "0     60\n",
       "1     86\n",
       "2     75\n",
       "3     62\n",
       "4     93\n",
       "5     71\n",
       "6     60\n",
       "7     83\n",
       "8     95\n",
       "9     78\n",
       "10    65\n",
       "11    72\n",
       "12    69\n",
       "13    81\n",
       "14    96\n",
       "15    80\n",
       "16    85\n",
       "17    92\n",
       "18    82\n",
       "19    78\n",
       "dtype: int64"
      ]
     },
     "execution_count": 416,
     "metadata": {},
     "output_type": "execute_result"
    }
   ],
   "source": [
    "exam_scores_series"
   ]
  },
  {
   "cell_type": "code",
   "execution_count": 419,
   "id": "69775431-51ec-42d5-88e5-2d066d0c1c6b",
   "metadata": {
    "tags": []
   },
   "outputs": [],
   "source": [
    "binned_exam_scores = pd.cut(exam_scores_series, 5).value_counts()"
   ]
  },
  {
   "cell_type": "code",
   "execution_count": 448,
   "id": "19f199f8-5ff8-461a-b328-de975ff10c39",
   "metadata": {
    "tags": []
   },
   "outputs": [
    {
     "data": {
      "text/plain": [
       "(74.4, 81.6]      5\n",
       "(59.964, 67.2]    4\n",
       "(81.6, 88.8]      4\n",
       "(88.8, 96.0]      4\n",
       "(67.2, 74.4]      3\n",
       "dtype: int64"
      ]
     },
     "execution_count": 448,
     "metadata": {},
     "output_type": "execute_result"
    }
   ],
   "source": [
    "binned_exam_scores"
   ]
  },
  {
   "cell_type": "code",
   "execution_count": 446,
   "id": "69872549-6bff-4227-aedd-c0082f1dadc9",
   "metadata": {
    "tags": []
   },
   "outputs": [
    {
     "data": {
      "text/plain": [
       "[Text(0.5, 0, 'Score Groupings'), Text(0, 0.5, 'Students in Group')]"
      ]
     },
     "execution_count": 446,
     "metadata": {},
     "output_type": "execute_result"
    },
    {
     "data": {
      "image/png": "[encoded data removed]",
      "text/plain": [
       "<Figure size 640x480 with 1 Axes>"
      ]
     },
     "metadata": {},
     "output_type": "display_data"
    }
   ],
   "source": [
    "binned_exam_scores.plot.bar(title='Exam Scores',\n",
    "                            rot=0\n",
    "                           ).set(xlabel='Score Groupings',\n",
    "                                 ylabel='Students in Group')"
   ]
  },
  {
   "cell_type": "code",
   "execution_count": 459,
   "id": "252c52da-a84e-43e8-bd1f-c2f525a0adf0",
   "metadata": {
    "tags": []
   },
   "outputs": [
    {
     "data": {
      "text/plain": [
       "[Text(0.5, 0, 'Student'), Text(0, 0.5, 'Scores')]"
      ]
     },
     "execution_count": 459,
     "metadata": {},
     "output_type": "execute_result"
    },
    {
     "data": {
      "image/png": "[encoded data removed]",
      "text/plain": [
       "<Figure size 640x480 with 1 Axes>"
      ]
     },
     "metadata": {},
     "output_type": "display_data"
    }
   ],
   "source": [
    "exam_scores_series.plot.bar(title='Exam Scores',\n",
    "                            rot=0\n",
    "                           ).set(xlabel='Student',\n",
    "                                 ylabel='Scores')"
   ]
  },
  {
   "cell_type": "markdown",
   "id": "607e3c78-060d-4490-943b-aa27ed500540",
   "metadata": {},
   "source": [
    "### 4. Write the code necessary to implement a curve for your exam_grades Series and save this as curved_grades. Add the necessary points to the highest grade to make it 100, and add the same number of points to every other score in the Series as well."
   ]
  },
  {
   "cell_type": "code",
   "execution_count": 461,
   "id": "9873b4a9-3529-4ef7-a361-bbafc44018dc",
   "metadata": {
    "tags": []
   },
   "outputs": [],
   "source": [
    "curved_grades = exam_scores_series + 4"
   ]
  },
  {
   "cell_type": "code",
   "execution_count": 462,
   "id": "23438e61-ddb8-49e6-b334-e475621b1ab2",
   "metadata": {
    "tags": []
   },
   "outputs": [
    {
     "data": {
      "text/plain": [
       "0      64\n",
       "1      90\n",
       "2      79\n",
       "3      66\n",
       "4      97\n",
       "5      75\n",
       "6      64\n",
       "7      87\n",
       "8      99\n",
       "9      82\n",
       "10     69\n",
       "11     76\n",
       "12     73\n",
       "13     85\n",
       "14    100\n",
       "15     84\n",
       "16     89\n",
       "17     96\n",
       "18     86\n",
       "19     82\n",
       "dtype: int64"
      ]
     },
     "execution_count": 462,
     "metadata": {},
     "output_type": "execute_result"
    }
   ],
   "source": [
    "curved_grades"
   ]
  },
  {
   "cell_type": "markdown",
   "id": "834efdd4-1936-489f-be6d-c26c1018d972",
   "metadata": {},
   "source": [
    "### 5. Use a method to convert each of the numeric values in the curved_grades Series into a categorical value of letter grades. For example, 86 should be a 'B' and 95 should be an 'A'. Save this as a Series named letter_grades."
   ]
  },
  {
   "cell_type": "code",
   "execution_count": null,
   "id": "43f0e656-9d07-4c44-99c4-c61cf6cb8cbd",
   "metadata": {},
   "outputs": [],
   "source": []
  },
  {
   "cell_type": "markdown",
   "id": "23c8c85f-21d4-4ee8-b79f-c3d33d55a274",
   "metadata": {},
   "source": [
    "### 6. Plot your new categorical letter_grades Series in a meaninful way and include a title and axis labels."
   ]
  },
  {
   "cell_type": "code",
   "execution_count": null,
   "id": "7e65211a-40c4-4b6c-9786-a5306f76125c",
   "metadata": {},
   "outputs": [],
   "source": []
  }
 ],
 "metadata": {
  "kernelspec": {
   "display_name": "Python 3 (ipykernel)",
   "language": "python",
   "name": "python3"
  },
  "language_info": {
   "codemirror_mode": {
    "name": "ipython",
    "version": 3
   },
   "file_extension": ".py",
   "mimetype": "text/x-python",
   "name": "python",
   "nbconvert_exporter": "python",
   "pygments_lexer": "ipython3",
   "version": "3.11.3"
  }
 },
 "nbformat": 4,
 "nbformat_minor": 5
}
